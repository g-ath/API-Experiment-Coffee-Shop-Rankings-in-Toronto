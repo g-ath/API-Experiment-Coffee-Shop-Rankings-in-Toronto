{
 "cells": [
  {
   "cell_type": "code",
   "execution_count": 1,
   "id": "3be345b1-82f8-495f-9a87-f68baf708c99",
   "metadata": {},
   "outputs": [],
   "source": [
    "import requests as re\n",
    "import os\n",
    "from IPython.display import JSON\n",
    "import numpy as np\n",
    "import pandas as pd\n",
    "import sqlite3\n",
    "from sqlite3 import Error"
   ]
  },
  {
   "cell_type": "code",
   "execution_count": 2,
   "id": "6f57aa4a-ea9e-4fa7-8ef0-5442d2643bd0",
   "metadata": {},
   "outputs": [],
   "source": [
    "url_4s = \"https://api.foursquare.com/v3/places/search?\" \n",
    "api_key_4s = \"fsq33f1HWVQMpLouDNqhHNV0+ATj93G4dSVxZoBPecFoHQw=\""
   ]
  },
  {
   "cell_type": "code",
   "execution_count": 3,
   "id": "f9f7aab3-492a-49c1-ab48-6b419fb05535",
   "metadata": {},
   "outputs": [],
   "source": [
    "params_4s = {\n",
    "    'll':'43.6707,-79.3930',  \n",
    "    'radius': '500',\n",
    "    #'near': 'Toronto',\n",
    "    'query': 'coffee',\n",
    "    'limit': 50, \n",
    "    'fields': 'name,popularity,rating,fsq_id'\n",
    "    #'open_at': '1T0700' #- time coffee shops open at\n",
    "}\n",
    "headers_4s = {\n",
    "    \"Accept\": \"application/json\",\n",
    "    \"Authorization\": api_key_4s\n",
    "}\n",
    "response = re.request(\"GET\", url_4s, headers=headers_4s, params=params_4s)\n",
    "data = response.json()"
   ]
  },
  {
   "cell_type": "code",
   "execution_count": 4,
   "id": "97c38f5c-acaa-4d38-b958-886724a0d416",
   "metadata": {},
   "outputs": [
    {
     "data": {
      "application/json": {
       "context": {
        "geo_bounds": {
         "circle": {
          "center": {
           "latitude": 43.6707,
           "longitude": -79.393
          },
          "radius": 500
         }
        }
       },
       "results": [
        {
         "fsq_id": "524c6ea511d207bb0817c28e",
         "name": "Nespresso Boutique Bar",
         "popularity": 0.9413629160063391,
         "rating": 8
        },
        {
         "fsq_id": "57941784498e2ae70c5c197b",
         "name": "Goldstruck Coffee",
         "popularity": 0.9537666745697992,
         "rating": 7.3
        },
        {
         "fsq_id": "56046c7d498e66c67551d0e3",
         "name": "Sorry Coffee Co",
         "popularity": 0.9560003494016497,
         "rating": 7.9
        },
        {
         "fsq_id": "5b96af6f911fc4002c38bd77",
         "name": "Cafe Bora",
         "popularity": 0.8589540412044374,
         "rating": 7.2
        },
        {
         "fsq_id": "5d94f9d17dc86b00084e1507",
         "name": "Zaza Espresso Bar & Gelato",
         "popularity": 0.9630071003406666
        },
        {
         "fsq_id": "5906565166f3cd3ef4386176",
         "name": "Starbucks",
         "popularity": 0.9113268527646405,
         "rating": 6.6
        },
        {
         "fsq_id": "5af88507419a9e002ce52c7a",
         "name": "Coco Espresso Bar",
         "popularity": 0.9438461634451003,
         "rating": 6.7
        },
        {
         "fsq_id": "4af1e33df964a5201ee421e3",
         "name": "Starbucks",
         "popularity": 0.9748555598537505,
         "rating": 6.9
        },
        {
         "fsq_id": "6170dbc10c759403286ba087",
         "name": "Moscow Tea Room - Yorkville",
         "popularity": 0.8508678887405319
        },
        {
         "fsq_id": "511197b4e4b0a57c983763fd",
         "name": "Windsor Arms Tea Room",
         "popularity": 0.916074971611116,
         "rating": 7.5
        },
        {
         "fsq_id": "59f0ca452955130cc64f7d0a",
         "name": "Elxr",
         "popularity": 0.8353444725906884
        },
        {
         "fsq_id": "4ba79edaf964a52020a339e3",
         "name": "B Expresso Bar",
         "popularity": 0.9417996680684328,
         "rating": 8.1
        },
        {
         "fsq_id": "56d5a00fcd109c07f4c4afa5",
         "name": "5 Elements Espresso",
         "popularity": 0.9423799243795001,
         "rating": 8.2
        },
        {
         "fsq_id": "55f3a076498ec17bcce0b793",
         "name": "Boxcar Social",
         "popularity": 0.588205198597402
        },
        {
         "fsq_id": "4b7c4a6af964a520178a2fe3",
         "name": "Timothy's World Coffee",
         "popularity": 0.29961815391142665
        },
        {
         "fsq_id": "57434748498eee3f1aeed03a",
         "name": "Sam James Coffee Bar",
         "popularity": 0.8226349875837629
        },
        {
         "fsq_id": "58a5d1e626a4075f24fa93ab",
         "name": "WFM Coffee Bar",
         "popularity": 0.2186942361206434
        },
        {
         "fsq_id": "4e84e4017beb5b5d350e3e40",
         "name": "Starbucks",
         "popularity": 0.9817063279134483,
         "rating": 7.9
        },
        {
         "fsq_id": "5c6ad85b0d8a0f002cce67db",
         "name": "A-ok Cafe",
         "popularity": 0.939522318030373,
         "rating": 7.8
        },
        {
         "fsq_id": "5212b8cd498e2382091b2df9",
         "name": "Aroma Espresso Bar",
         "popularity": 0.9432534285036874,
         "rating": 7.9
        },
        {
         "fsq_id": "4c372e2adfb0e21e693faca8",
         "name": "Second Cup Coffee Co",
         "popularity": 0.8747582265370553,
         "rating": 5.9
        },
        {
         "fsq_id": "502441e5e4b069d5af657ee2",
         "name": "Balzac's Coffee",
         "popularity": 0.9728402610529469,
         "rating": 8
        },
        {
         "fsq_id": "52459c6f498e70b18c0cb965",
         "name": "Starbucks",
         "popularity": 0.9693025693499882,
         "rating": 7.4
        },
        {
         "fsq_id": "4acfa36ef964a5201fd520e3",
         "name": "Tim Hortons",
         "popularity": 0.975267354655153,
         "rating": 7.2
        },
        {
         "fsq_id": "4bbc827851b89c747e77872a",
         "name": "Tim Hortons",
         "popularity": 0.9101975367183698,
         "rating": 5.5
        },
        {
         "fsq_id": "5ddaacc919f6a90008429c6c",
         "name": "Il Gran Caffè",
         "popularity": 0.9595068445287446
        },
        {
         "fsq_id": "4e7a3f2bb8039ce6427a08b4",
         "name": "Caffiends",
         "popularity": 0.009352733443977189
        },
        {
         "fsq_id": "5d8a386a5f85bb0008a3efb5",
         "name": "Pilot Coffee Roasters",
         "popularity": 0.9407140272283714
        },
        {
         "fsq_id": "4ae601d7f964a520fda321e3",
         "name": "Windsor Arms Hotel",
         "popularity": 0.951688982617268,
         "rating": 7.5
        },
        {
         "fsq_id": "4b475b5ef964a520b22f26e3",
         "name": "Charlotte Tilbury - Holt Renfrew Bloor",
         "popularity": 0.9227011243245942,
         "rating": 7.6
        }
       ]
      },
      "text/plain": [
       "<IPython.core.display.JSON object>"
      ]
     },
     "execution_count": 4,
     "metadata": {
      "application/json": {
       "expanded": false,
       "root": "root"
      }
     },
     "output_type": "execute_result"
    }
   ],
   "source": [
    "JSON(data)"
   ]
  },
  {
   "cell_type": "code",
   "execution_count": 7,
   "id": "0be288e9-9029-4fb8-b7b2-275cace6f6e2",
   "metadata": {},
   "outputs": [
    {
     "name": "stdout",
     "output_type": "stream",
     "text": [
      "{'fsq_id': '524c6ea511d207bb0817c28e', 'name': 'Nespresso Boutique Bar', 'popularity': 0.9413629160063391, 'rating': 8.0}\n",
      "{'fsq_id': '57941784498e2ae70c5c197b', 'name': 'Goldstruck Coffee', 'popularity': 0.9537666745697992, 'rating': 7.3}\n",
      "{'fsq_id': '56046c7d498e66c67551d0e3', 'name': 'Sorry Coffee Co', 'popularity': 0.9560003494016497, 'rating': 7.9}\n",
      "{'fsq_id': '5b96af6f911fc4002c38bd77', 'name': 'Cafe Bora', 'popularity': 0.8589540412044374, 'rating': 7.2}\n",
      "{'fsq_id': '5d94f9d17dc86b00084e1507', 'name': 'Zaza Espresso Bar & Gelato', 'popularity': 0.9630071003406666}\n",
      "{'fsq_id': '5906565166f3cd3ef4386176', 'name': 'Starbucks', 'popularity': 0.9113268527646405, 'rating': 6.6}\n",
      "{'fsq_id': '5af88507419a9e002ce52c7a', 'name': 'Coco Espresso Bar', 'popularity': 0.9438461634451003, 'rating': 6.7}\n",
      "{'fsq_id': '4af1e33df964a5201ee421e3', 'name': 'Starbucks', 'popularity': 0.9748555598537505, 'rating': 6.9}\n",
      "{'fsq_id': '6170dbc10c759403286ba087', 'name': 'Moscow Tea Room - Yorkville', 'popularity': 0.8508678887405319}\n",
      "{'fsq_id': '511197b4e4b0a57c983763fd', 'name': 'Windsor Arms Tea Room', 'popularity': 0.916074971611116, 'rating': 7.5}\n",
      "{'fsq_id': '59f0ca452955130cc64f7d0a', 'name': 'Elxr', 'popularity': 0.8353444725906884}\n",
      "{'fsq_id': '4ba79edaf964a52020a339e3', 'name': 'B Expresso Bar', 'popularity': 0.9417996680684328, 'rating': 8.1}\n",
      "{'fsq_id': '56d5a00fcd109c07f4c4afa5', 'name': '5 Elements Espresso', 'popularity': 0.9423799243795001, 'rating': 8.2}\n",
      "{'fsq_id': '55f3a076498ec17bcce0b793', 'name': 'Boxcar Social', 'popularity': 0.588205198597402}\n",
      "{'fsq_id': '4b7c4a6af964a520178a2fe3', 'name': \"Timothy's World Coffee\", 'popularity': 0.29961815391142665}\n",
      "{'fsq_id': '57434748498eee3f1aeed03a', 'name': 'Sam James Coffee Bar', 'popularity': 0.8226349875837629}\n",
      "{'fsq_id': '58a5d1e626a4075f24fa93ab', 'name': 'WFM Coffee Bar', 'popularity': 0.2186942361206434}\n",
      "{'fsq_id': '4e84e4017beb5b5d350e3e40', 'name': 'Starbucks', 'popularity': 0.9817063279134483, 'rating': 7.9}\n",
      "{'fsq_id': '5c6ad85b0d8a0f002cce67db', 'name': 'A-ok Cafe', 'popularity': 0.939522318030373, 'rating': 7.8}\n",
      "{'fsq_id': '5212b8cd498e2382091b2df9', 'name': 'Aroma Espresso Bar', 'popularity': 0.9432534285036874, 'rating': 7.9}\n",
      "{'fsq_id': '4c372e2adfb0e21e693faca8', 'name': 'Second Cup Coffee Co', 'popularity': 0.8747582265370553, 'rating': 5.9}\n",
      "{'fsq_id': '502441e5e4b069d5af657ee2', 'name': \"Balzac's Coffee\", 'popularity': 0.9728402610529469, 'rating': 8.0}\n",
      "{'fsq_id': '52459c6f498e70b18c0cb965', 'name': 'Starbucks', 'popularity': 0.9693025693499882, 'rating': 7.4}\n",
      "{'fsq_id': '4acfa36ef964a5201fd520e3', 'name': 'Tim Hortons', 'popularity': 0.975267354655153, 'rating': 7.2}\n",
      "{'fsq_id': '4bbc827851b89c747e77872a', 'name': 'Tim Hortons', 'popularity': 0.9101975367183698, 'rating': 5.5}\n",
      "{'fsq_id': '5ddaacc919f6a90008429c6c', 'name': 'Il Gran Caffè', 'popularity': 0.9595068445287446}\n",
      "{'fsq_id': '4e7a3f2bb8039ce6427a08b4', 'name': 'Caffiends', 'popularity': 0.009352733443977189}\n",
      "{'fsq_id': '5d8a386a5f85bb0008a3efb5', 'name': 'Pilot Coffee Roasters', 'popularity': 0.9407140272283714}\n",
      "{'fsq_id': '4ae601d7f964a520fda321e3', 'name': 'Windsor Arms Hotel', 'popularity': 0.951688982617268, 'rating': 7.5}\n",
      "{'fsq_id': '4b475b5ef964a520b22f26e3', 'name': 'Charlotte Tilbury - Holt Renfrew Bloor', 'popularity': 0.9227011243245942, 'rating': 7.6}\n"
     ]
    },
    {
     "data": {
      "application/json": [
       {
        "name": "Nespresso Boutique Bar",
        "popularity": 94.13629160063391
       },
       {
        "name": "Goldstruck Coffee",
        "popularity": 95.37666745697993
       },
       {
        "name": "Sorry Coffee Co",
        "popularity": 95.60003494016497
       },
       {
        "name": "Cafe Bora",
        "popularity": 85.89540412044374
       },
       {
        "name": "Zaza Espresso Bar & Gelato",
        "popularity": 96.30071003406667
       },
       {
        "name": "Starbucks",
        "popularity": 91.13268527646406
       },
       {
        "name": "Coco Espresso Bar",
        "popularity": 94.38461634451004
       },
       {
        "name": "Starbucks",
        "popularity": 97.48555598537504
       },
       {
        "name": "Moscow Tea Room - Yorkville",
        "popularity": 85.08678887405318
       },
       {
        "name": "Windsor Arms Tea Room",
        "popularity": 91.6074971611116
       },
       {
        "name": "Elxr",
        "popularity": 83.53444725906884
       },
       {
        "name": "B Expresso Bar",
        "popularity": 94.17996680684328
       },
       {
        "name": "5 Elements Espresso",
        "popularity": 94.23799243795001
       },
       {
        "name": "Boxcar Social",
        "popularity": 58.820519859740195
       },
       {
        "name": "Timothy's World Coffee",
        "popularity": 29.961815391142665
       },
       {
        "name": "Sam James Coffee Bar",
        "popularity": 82.26349875837629
       },
       {
        "name": "WFM Coffee Bar",
        "popularity": 21.869423612064338
       },
       {
        "name": "Starbucks",
        "popularity": 98.17063279134483
       },
       {
        "name": "A-ok Cafe",
        "popularity": 93.95223180303731
       },
       {
        "name": "Aroma Espresso Bar",
        "popularity": 94.32534285036874
       },
       {
        "name": "Second Cup Coffee Co",
        "popularity": 87.47582265370552
       },
       {
        "name": "Balzac's Coffee",
        "popularity": 97.28402610529469
       },
       {
        "name": "Starbucks",
        "popularity": 96.93025693499881
       },
       {
        "name": "Tim Hortons",
        "popularity": 97.5267354655153
       },
       {
        "name": "Tim Hortons",
        "popularity": 91.01975367183698
       },
       {
        "name": "Il Gran Caffè",
        "popularity": 95.95068445287446
       },
       {
        "name": "Caffiends",
        "popularity": 0.9352733443977188
       },
       {
        "name": "Pilot Coffee Roasters",
        "popularity": 94.07140272283714
       },
       {
        "name": "Windsor Arms Hotel",
        "popularity": 95.1688982617268
       },
       {
        "name": "Charlotte Tilbury - Holt Renfrew Bloor",
        "popularity": 92.27011243245941
       }
      ],
      "text/plain": [
       "<IPython.core.display.JSON object>"
      ]
     },
     "metadata": {
      "application/json": {
       "expanded": false,
       "root": "root"
      }
     },
     "output_type": "display_data"
    }
   ],
   "source": [
    "all_coffee_4s = []\n",
    "for restaurant in data['results']:\n",
    "    restaurant\n",
    "    print(restaurant)\n",
    "    id_restaurant = restaurant['fsq_id']\n",
    "    \n",
    "    url = f'https://api.foursquare.com/v3/places/{id_restaurant}'\n",
    "    resp = re.get(url=url, headers=headers_4s, params={'fields': 'popularity,name'})\n",
    "    \n",
    "    if resp.status_code == 200:\n",
    "        restaurant_data = resp.json()\n",
    "        try: \n",
    "            all_coffee_4s.append({\n",
    "                'name':restaurant_data['name'],\n",
    "                'popularity': restaurant_data['popularity']*100})\n",
    "        except KeyError: \n",
    "            print('There was a KeyError')\n",
    "display(JSON(all_coffee_4s))"
   ]
  },
  {
   "cell_type": "code",
   "execution_count": 8,
   "id": "a555c4d2-078e-436d-b762-fa2c8712e3cd",
   "metadata": {},
   "outputs": [
    {
     "data": {
      "text/html": [
       "<div>\n",
       "<style scoped>\n",
       "    .dataframe tbody tr th:only-of-type {\n",
       "        vertical-align: middle;\n",
       "    }\n",
       "\n",
       "    .dataframe tbody tr th {\n",
       "        vertical-align: top;\n",
       "    }\n",
       "\n",
       "    .dataframe thead th {\n",
       "        text-align: right;\n",
       "    }\n",
       "</style>\n",
       "<table border=\"1\" class=\"dataframe\">\n",
       "  <thead>\n",
       "    <tr style=\"text-align: right;\">\n",
       "      <th></th>\n",
       "      <th>name</th>\n",
       "      <th>popularity</th>\n",
       "    </tr>\n",
       "  </thead>\n",
       "  <tbody>\n",
       "    <tr>\n",
       "      <th>0</th>\n",
       "      <td>Nespresso Boutique Bar</td>\n",
       "      <td>94.136292</td>\n",
       "    </tr>\n",
       "    <tr>\n",
       "      <th>1</th>\n",
       "      <td>Goldstruck Coffee</td>\n",
       "      <td>95.376667</td>\n",
       "    </tr>\n",
       "    <tr>\n",
       "      <th>2</th>\n",
       "      <td>Sorry Coffee Co</td>\n",
       "      <td>95.600035</td>\n",
       "    </tr>\n",
       "    <tr>\n",
       "      <th>3</th>\n",
       "      <td>Cafe Bora</td>\n",
       "      <td>85.895404</td>\n",
       "    </tr>\n",
       "    <tr>\n",
       "      <th>4</th>\n",
       "      <td>Zaza Espresso Bar &amp; Gelato</td>\n",
       "      <td>96.300710</td>\n",
       "    </tr>\n",
       "  </tbody>\n",
       "</table>\n",
       "</div>"
      ],
      "text/plain": [
       "                         name  popularity\n",
       "0      Nespresso Boutique Bar   94.136292\n",
       "1           Goldstruck Coffee   95.376667\n",
       "2             Sorry Coffee Co   95.600035\n",
       "3                   Cafe Bora   85.895404\n",
       "4  Zaza Espresso Bar & Gelato   96.300710"
      ]
     },
     "execution_count": 8,
     "metadata": {},
     "output_type": "execute_result"
    }
   ],
   "source": [
    "all_coffee_4s\n",
    "df_4s = pd.DataFrame(all_coffee_4s)\n",
    "df_4s.head()"
   ]
  },
  {
   "cell_type": "code",
   "execution_count": 9,
   "id": "a43f6027-8a53-4c6d-bbbb-62198afc3c44",
   "metadata": {},
   "outputs": [
    {
     "data": {
      "text/html": [
       "<div>\n",
       "<style scoped>\n",
       "    .dataframe tbody tr th:only-of-type {\n",
       "        vertical-align: middle;\n",
       "    }\n",
       "\n",
       "    .dataframe tbody tr th {\n",
       "        vertical-align: top;\n",
       "    }\n",
       "\n",
       "    .dataframe thead th {\n",
       "        text-align: right;\n",
       "    }\n",
       "</style>\n",
       "<table border=\"1\" class=\"dataframe\">\n",
       "  <thead>\n",
       "    <tr style=\"text-align: right;\">\n",
       "      <th></th>\n",
       "      <th>name</th>\n",
       "      <th>popularity</th>\n",
       "    </tr>\n",
       "  </thead>\n",
       "  <tbody>\n",
       "    <tr>\n",
       "      <th>17</th>\n",
       "      <td>Starbucks</td>\n",
       "      <td>98.17</td>\n",
       "    </tr>\n",
       "    <tr>\n",
       "      <th>23</th>\n",
       "      <td>Tim Hortons</td>\n",
       "      <td>97.53</td>\n",
       "    </tr>\n",
       "    <tr>\n",
       "      <th>7</th>\n",
       "      <td>Starbucks</td>\n",
       "      <td>97.49</td>\n",
       "    </tr>\n",
       "    <tr>\n",
       "      <th>21</th>\n",
       "      <td>Balzac's Coffee</td>\n",
       "      <td>97.28</td>\n",
       "    </tr>\n",
       "    <tr>\n",
       "      <th>22</th>\n",
       "      <td>Starbucks</td>\n",
       "      <td>96.93</td>\n",
       "    </tr>\n",
       "    <tr>\n",
       "      <th>4</th>\n",
       "      <td>Zaza Espresso Bar &amp; Gelato</td>\n",
       "      <td>96.30</td>\n",
       "    </tr>\n",
       "    <tr>\n",
       "      <th>25</th>\n",
       "      <td>Il Gran Caffè</td>\n",
       "      <td>95.95</td>\n",
       "    </tr>\n",
       "    <tr>\n",
       "      <th>2</th>\n",
       "      <td>Sorry Coffee Co</td>\n",
       "      <td>95.60</td>\n",
       "    </tr>\n",
       "    <tr>\n",
       "      <th>1</th>\n",
       "      <td>Goldstruck Coffee</td>\n",
       "      <td>95.38</td>\n",
       "    </tr>\n",
       "    <tr>\n",
       "      <th>28</th>\n",
       "      <td>Windsor Arms Hotel</td>\n",
       "      <td>95.17</td>\n",
       "    </tr>\n",
       "  </tbody>\n",
       "</table>\n",
       "</div>"
      ],
      "text/plain": [
       "                          name  popularity\n",
       "17                   Starbucks       98.17\n",
       "23                 Tim Hortons       97.53\n",
       "7                    Starbucks       97.49\n",
       "21             Balzac's Coffee       97.28\n",
       "22                   Starbucks       96.93\n",
       "4   Zaza Espresso Bar & Gelato       96.30\n",
       "25               Il Gran Caffè       95.95\n",
       "2              Sorry Coffee Co       95.60\n",
       "1            Goldstruck Coffee       95.38\n",
       "28          Windsor Arms Hotel       95.17"
      ]
     },
     "execution_count": 9,
     "metadata": {},
     "output_type": "execute_result"
    }
   ],
   "source": [
    "rank_df_4s = df_4s.sort_values(by='popularity', ascending=False)\n",
    "top_df_4s = rank_df_4s.head(10)\n",
    "clean_top_df_4s = top_df_4s.round({'popularity': 2})\n",
    "clean_top_df_4s"
   ]
  },
  {
   "cell_type": "code",
   "execution_count": 10,
   "id": "1d29ea10-35fa-477b-893f-7e3972fb834a",
   "metadata": {},
   "outputs": [
    {
     "data": {
      "application/json": {
       "context": {
        "geo_bounds": {
         "circle": {
          "center": {
           "latitude": 43.6707,
           "longitude": -79.393
          },
          "radius": 500
         }
        }
       },
       "results": [
        {
         "fsq_id": "524c6ea511d207bb0817c28e",
         "name": "Nespresso Boutique Bar",
         "popularity": 0.9413629160063391,
         "rating": 8
        },
        {
         "fsq_id": "57941784498e2ae70c5c197b",
         "name": "Goldstruck Coffee",
         "popularity": 0.9537666745697992,
         "rating": 7.3
        },
        {
         "fsq_id": "56046c7d498e66c67551d0e3",
         "name": "Sorry Coffee Co",
         "popularity": 0.9560003494016497,
         "rating": 7.9
        },
        {
         "fsq_id": "5b96af6f911fc4002c38bd77",
         "name": "Cafe Bora",
         "popularity": 0.8589540412044374,
         "rating": 7.2
        },
        {
         "fsq_id": "5d94f9d17dc86b00084e1507",
         "name": "Zaza Espresso Bar & Gelato",
         "popularity": 0.9630071003406666
        },
        {
         "fsq_id": "5906565166f3cd3ef4386176",
         "name": "Starbucks",
         "popularity": 0.9113268527646405,
         "rating": 6.6
        },
        {
         "fsq_id": "5af88507419a9e002ce52c7a",
         "name": "Coco Espresso Bar",
         "popularity": 0.9438461634451003,
         "rating": 6.7
        },
        {
         "fsq_id": "4af1e33df964a5201ee421e3",
         "name": "Starbucks",
         "popularity": 0.9748555598537505,
         "rating": 6.9
        },
        {
         "fsq_id": "6170dbc10c759403286ba087",
         "name": "Moscow Tea Room - Yorkville",
         "popularity": 0.8508678887405319
        },
        {
         "fsq_id": "511197b4e4b0a57c983763fd",
         "name": "Windsor Arms Tea Room",
         "popularity": 0.916074971611116,
         "rating": 7.5
        },
        {
         "fsq_id": "59f0ca452955130cc64f7d0a",
         "name": "Elxr",
         "popularity": 0.8353444725906884
        },
        {
         "fsq_id": "4ba79edaf964a52020a339e3",
         "name": "B Expresso Bar",
         "popularity": 0.9417996680684328,
         "rating": 8.1
        },
        {
         "fsq_id": "56d5a00fcd109c07f4c4afa5",
         "name": "5 Elements Espresso",
         "popularity": 0.9423799243795001,
         "rating": 8.2
        },
        {
         "fsq_id": "55f3a076498ec17bcce0b793",
         "name": "Boxcar Social",
         "popularity": 0.588205198597402
        },
        {
         "fsq_id": "4b7c4a6af964a520178a2fe3",
         "name": "Timothy's World Coffee",
         "popularity": 0.29961815391142665
        },
        {
         "fsq_id": "57434748498eee3f1aeed03a",
         "name": "Sam James Coffee Bar",
         "popularity": 0.8226349875837629
        },
        {
         "fsq_id": "58a5d1e626a4075f24fa93ab",
         "name": "WFM Coffee Bar",
         "popularity": 0.2186942361206434
        },
        {
         "fsq_id": "4e84e4017beb5b5d350e3e40",
         "name": "Starbucks",
         "popularity": 0.9817063279134483,
         "rating": 7.9
        },
        {
         "fsq_id": "5c6ad85b0d8a0f002cce67db",
         "name": "A-ok Cafe",
         "popularity": 0.939522318030373,
         "rating": 7.8
        },
        {
         "fsq_id": "5212b8cd498e2382091b2df9",
         "name": "Aroma Espresso Bar",
         "popularity": 0.9432534285036874,
         "rating": 7.9
        },
        {
         "fsq_id": "4c372e2adfb0e21e693faca8",
         "name": "Second Cup Coffee Co",
         "popularity": 0.8747582265370553,
         "rating": 5.9
        },
        {
         "fsq_id": "502441e5e4b069d5af657ee2",
         "name": "Balzac's Coffee",
         "popularity": 0.9728402610529469,
         "rating": 8
        },
        {
         "fsq_id": "52459c6f498e70b18c0cb965",
         "name": "Starbucks",
         "popularity": 0.9693025693499882,
         "rating": 7.4
        },
        {
         "fsq_id": "4acfa36ef964a5201fd520e3",
         "name": "Tim Hortons",
         "popularity": 0.975267354655153,
         "rating": 7.2
        },
        {
         "fsq_id": "4bbc827851b89c747e77872a",
         "name": "Tim Hortons",
         "popularity": 0.9101975367183698,
         "rating": 5.5
        },
        {
         "fsq_id": "5ddaacc919f6a90008429c6c",
         "name": "Il Gran Caffè",
         "popularity": 0.9595068445287446
        },
        {
         "fsq_id": "4e7a3f2bb8039ce6427a08b4",
         "name": "Caffiends",
         "popularity": 0.009352733443977189
        },
        {
         "fsq_id": "5d8a386a5f85bb0008a3efb5",
         "name": "Pilot Coffee Roasters",
         "popularity": 0.9407140272283714
        },
        {
         "fsq_id": "4ae601d7f964a520fda321e3",
         "name": "Windsor Arms Hotel",
         "popularity": 0.951688982617268,
         "rating": 7.5
        },
        {
         "fsq_id": "4b475b5ef964a520b22f26e3",
         "name": "Charlotte Tilbury - Holt Renfrew Bloor",
         "popularity": 0.9227011243245942,
         "rating": 7.6
        }
       ]
      },
      "text/plain": [
       "<IPython.core.display.JSON object>"
      ]
     },
     "metadata": {
      "application/json": {
       "expanded": false,
       "root": "root"
      }
     },
     "output_type": "display_data"
    },
    {
     "name": "stdout",
     "output_type": "stream",
     "text": [
      "30\n",
      "Nespresso Boutique Bar 94.13629160063391\n",
      "Goldstruck Coffee 95.37666745697993\n",
      "Sorry Coffee Co 95.60003494016497\n",
      "Cafe Bora 85.89540412044374\n",
      "Zaza Espresso Bar & Gelato 96.30071003406667\n",
      "Starbucks 91.13268527646406\n",
      "Coco Espresso Bar 94.38461634451004\n",
      "Starbucks 97.48555598537504\n",
      "Moscow Tea Room - Yorkville 85.08678887405318\n",
      "Windsor Arms Tea Room 91.6074971611116\n",
      "Elxr 83.53444725906884\n",
      "B Expresso Bar 94.17996680684328\n",
      "5 Elements Espresso 94.23799243795001\n",
      "Boxcar Social 58.820519859740195\n",
      "Timothy's World Coffee 29.961815391142665\n",
      "Sam James Coffee Bar 82.26349875837629\n",
      "WFM Coffee Bar 21.869423612064338\n",
      "Starbucks 98.17063279134483\n",
      "A-ok Cafe 93.95223180303731\n",
      "Aroma Espresso Bar 94.32534285036874\n",
      "Second Cup Coffee Co 87.47582265370552\n",
      "Balzac's Coffee 97.28402610529469\n",
      "Starbucks 96.93025693499881\n",
      "Tim Hortons 97.5267354655153\n",
      "Tim Hortons 91.01975367183698\n",
      "Il Gran Caffè 95.95068445287446\n",
      "Caffiends 0.9352733443977188\n",
      "Pilot Coffee Roasters 94.07140272283714\n",
      "Windsor Arms Hotel 95.1688982617268\n",
      "Charlotte Tilbury - Holt Renfrew Bloor 92.27011243245941\n"
     ]
    }
   ],
   "source": [
    "display(JSON(response.json()))\n",
    "amount_of_results = len((response.json()['results']))\n",
    "print(amount_of_results)\n",
    "for i in range(amount_of_results):\n",
    "    coffee_name = (response.json()['results'][i]['name'])\n",
    "    rating = ((response.json()['results'][i]['popularity'])*100)\n",
    "    print(coffee_name,rating)"
   ]
  },
  {
   "cell_type": "code",
   "execution_count": null,
   "id": "d6660eee-4f8a-42ab-b753-2af241e7b0d6",
   "metadata": {},
   "outputs": [],
   "source": []
  }
 ],
 "metadata": {
  "kernelspec": {
   "display_name": "Python 3 (ipykernel)",
   "language": "python",
   "name": "python3"
  },
  "language_info": {
   "codemirror_mode": {
    "name": "ipython",
    "version": 3
   },
   "file_extension": ".py",
   "mimetype": "text/x-python",
   "name": "python",
   "nbconvert_exporter": "python",
   "pygments_lexer": "ipython3",
   "version": "3.8.13"
  }
 },
 "nbformat": 4,
 "nbformat_minor": 5
}
