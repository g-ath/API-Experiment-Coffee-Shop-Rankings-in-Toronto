{
 "cells": [
  {
   "cell_type": "code",
   "execution_count": 1,
   "id": "777c1e9e-9147-41ac-9323-663b369b1c4c",
   "metadata": {},
   "outputs": [],
   "source": [
    "import requests as re\n",
    "import os\n",
    "from IPython.display import JSON\n",
    "import numpy as np\n",
    "import pandas as pd\n",
    "import sqlite3\n",
    "from sqlite3 import Error"
   ]
  },
  {
   "cell_type": "code",
   "execution_count": 2,
   "id": "83c21ada-08a1-4eae-8ac7-eecaa1759e79",
   "metadata": {},
   "outputs": [],
   "source": [
    "url_yelp= 'https://api.yelp.com/v3/businesses/search'\n",
    "api_key_yelp = \"e0l5ranO8tcm54wJd8bWHhTXaq06XAlHOtjQVK8krK7ghaIoErRJ9Z6Vx5zhFZlENzj-iPvF_7Wq7KNRGa57vkLa9JDUFktR6ndKUmIjqFbZKbij5FB_wL8afklYYnYx\""
   ]
  },
  {
   "cell_type": "code",
   "execution_count": 3,
   "id": "453d28f8-6243-4f2f-887b-f7781562f923",
   "metadata": {},
   "outputs": [],
   "source": [
    "#Location: Yorkville, Toronto. API - Yelp. \n",
    "url_yelp= 'https://api.yelp.com/v3/businesses/search'\n",
    "params_yelp = {\n",
    "\n",
    "        'latitude': '43.6707',\n",
    "        'longitude': '-79.3930',\n",
    "        #'location': 'Toronto',\n",
    "        'term': 'coffee',\n",
    "        'limit': 50,\n",
    "        'radius': 500, \n",
    "        'sort': 'RATING',\n",
    "        #'open_at': 10300 - time doccumnetation not working, conduct further research into yelp documentation\n",
    "    }\n",
    "\n",
    "headers_yelp = {\n",
    "        'Authorization': 'Bearer %s' % api_key_yelp,\n",
    "    }\n",
    "response2 = re.get(url_yelp, params = params_yelp, headers = headers_yelp)\n",
    "response2.json()\n",
    "data = response2.json()\n",
    "#response2.status_code"
   ]
  },
  {
   "cell_type": "code",
   "execution_count": null,
   "id": "a4c60fa6-fe0e-4001-b589-1d005751681c",
   "metadata": {},
   "outputs": [],
   "source": [
    "all_coffee = []\n",
    "for restaurant in data['businesses']:\n",
    "    id_restaurant = restaurant['id']\n",
    "    \n",
    "    url = f'https://api.yelp.com/v3/businesses/{id_restaurant}'\n",
    "    resp = re.get(url=url, headers=headers_yelp)\n",
    "    \n",
    "    if resp.status_code == 200:\n",
    "        restaurant_data = resp.json()\n",
    "        \n",
    "        all_coffee.append(\n",
    "            {\n",
    "            'name': restaurant_data['name'],\n",
    "            'rating': restaurant_data['rating']*2\n",
    "        })"
   ]
  },
  {
   "cell_type": "code",
   "execution_count": null,
   "id": "3aff3af3-e110-414f-b357-fe6d5950bca7",
   "metadata": {},
   "outputs": [],
   "source": []
  }
 ],
 "metadata": {
  "kernelspec": {
   "display_name": "Python 3 (ipykernel)",
   "language": "python",
   "name": "python3"
  },
  "language_info": {
   "codemirror_mode": {
    "name": "ipython",
    "version": 3
   },
   "file_extension": ".py",
   "mimetype": "text/x-python",
   "name": "python",
   "nbconvert_exporter": "python",
   "pygments_lexer": "ipython3",
   "version": "3.8.13"
  }
 },
 "nbformat": 4,
 "nbformat_minor": 5
}
