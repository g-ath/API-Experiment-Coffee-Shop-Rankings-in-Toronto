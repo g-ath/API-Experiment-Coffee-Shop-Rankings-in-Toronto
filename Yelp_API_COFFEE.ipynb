{
 "cells": [
  {
   "cell_type": "code",
   "execution_count": 9,
   "id": "777c1e9e-9147-41ac-9323-663b369b1c4c",
   "metadata": {},
   "outputs": [],
   "source": [
    "import requests as re\n",
    "import os\n",
    "from IPython.display import JSON\n",
    "import numpy as np\n",
    "import pandas as pd\n",
    "import sqlite3\n",
    "from sqlite3 import Error"
   ]
  },
  {
   "cell_type": "code",
   "execution_count": 10,
   "id": "83c21ada-08a1-4eae-8ac7-eecaa1759e79",
   "metadata": {},
   "outputs": [],
   "source": [
    "url_yelp= 'https://api.yelp.com/v3/businesses/search'\n",
    "api_key_yelp = \"e0l5ranO8tcm54wJd8bWHhTXaq06XAlHOtjQVK8krK7ghaIoErRJ9Z6Vx5zhFZlENzj-iPvF_7Wq7KNRGa57vkLa9JDUFktR6ndKUmIjqFbZKbij5FB_wL8afklYYnYx\""
   ]
  },
  {
   "cell_type": "code",
   "execution_count": 11,
   "id": "453d28f8-6243-4f2f-887b-f7781562f923",
   "metadata": {},
   "outputs": [],
   "source": [
    "#Location: Yorkville, Toronto. API - Yelp. \n",
    "url_yelp= 'https://api.yelp.com/v3/businesses/search'\n",
    "params_yelp = {\n",
    "\n",
    "        'latitude': '43.6707',\n",
    "        'longitude': '-79.3930',\n",
    "        #'location': 'Toronto',\n",
    "        'term': 'coffee',\n",
    "        'limit': 50,\n",
    "        'radius': 500, \n",
    "        'sort': 'RATING',\n",
    "        #'open_at': 10300 - time doccumnetation not working, conduct further research into yelp documentation\n",
    "    }\n",
    "\n",
    "headers_yelp = {\n",
    "        'Authorization': 'Bearer %s' % api_key_yelp,\n",
    "    }\n",
    "response2 = re.get(url_yelp, params = params_yelp, headers = headers_yelp)\n",
    "response2.json()\n",
    "data = response2.json()\n",
    "#response2.status_code"
   ]
  },
  {
   "cell_type": "code",
   "execution_count": 12,
   "id": "a4c60fa6-fe0e-4001-b589-1d005751681c",
   "metadata": {},
   "outputs": [],
   "source": [
    "all_coffee = []\n",
    "for restaurant in data['businesses']:\n",
    "    id_restaurant = restaurant['id']\n",
    "    \n",
    "    url = f'https://api.yelp.com/v3/businesses/{id_restaurant}'\n",
    "    resp = re.get(url=url, headers=headers_yelp)\n",
    "    \n",
    "    if resp.status_code == 200:\n",
    "        restaurant_data = resp.json()\n",
    "        \n",
    "        all_coffee.append(\n",
    "            {\n",
    "            'name': restaurant_data['name'],\n",
    "            'rating': restaurant_data['rating']*2\n",
    "        })"
   ]
  },
  {
   "cell_type": "code",
   "execution_count": 13,
   "id": "5d5e4d68-7310-4ac7-bb39-3f94b04ef6a4",
   "metadata": {},
   "outputs": [
    {
     "data": {
      "application/json": [
       {
        "name": "Coffee Lunar",
        "rating": 10
       },
       {
        "name": "Nespresso Boutique Bar",
        "rating": 8
       },
       {
        "name": "Goldstruck Coffee",
        "rating": 7
       },
       {
        "name": "Dice Fruit Bar & Cafe",
        "rating": 9
       },
       {
        "name": "Coco Espresso Bar",
        "rating": 7
       },
       {
        "name": "Zaza Espresso Bar",
        "rating": 8
       },
       {
        "name": "A-OK CAFE",
        "rating": 8
       },
       {
        "name": "Zaza Espresso Bar",
        "rating": 7
       },
       {
        "name": "Jacked Up Coffee",
        "rating": 8
       },
       {
        "name": "Havana Coffee Bar",
        "rating": 8
       },
       {
        "name": "Ned's Cafe",
        "rating": 8
       },
       {
        "name": "Dessert Lady Café",
        "rating": 8
       },
       {
        "name": "B Espresso Bar",
        "rating": 6
       },
       {
        "name": "5 Elements Espresso Bar",
        "rating": 6
       },
       {
        "name": "Balzac’s Coffee Roasters",
        "rating": 7
       },
       {
        "name": "Pilot Coffee Roasters",
        "rating": 6
       },
       {
        "name": "Scollard Variety & Deli",
        "rating": 9
       },
       {
        "name": "Café Boulud",
        "rating": 7
       },
       {
        "name": "Caffiends",
        "rating": 10
       },
       {
        "name": "Dessert Lady Café",
        "rating": 8
       },
       {
        "name": "Venchi at Eataly Toronto",
        "rating": 8
       },
       {
        "name": "Portici",
        "rating": 8
       },
       {
        "name": "Carole's Cheesecake Cafe",
        "rating": 7
       },
       {
        "name": "Chi Patisserie",
        "rating": 7
       },
       {
        "name": "Starbucks",
        "rating": 7
       },
       {
        "name": "Little Hut Cafe",
        "rating": 8
       },
       {
        "name": "Eataly",
        "rating": 7
       },
       {
        "name": "Starbucks",
        "rating": 9
       },
       {
        "name": "holts café",
        "rating": 7
       },
       {
        "name": "Joni Restaurant",
        "rating": 8
       },
       {
        "name": "Yorkville Crepes",
        "rating": 7
       },
       {
        "name": "Utsav",
        "rating": 8
       },
       {
        "name": "Windsor Arms Hotel Tea Room",
        "rating": 5
       },
       {
        "name": "Aroma Espresso Bar",
        "rating": 5
       },
       {
        "name": "Starbucks",
        "rating": 7
       },
       {
        "name": "Urbana Coffee",
        "rating": 3
       },
       {
        "name": "PLANTA",
        "rating": 8
       },
       {
        "name": "KANDL Artistique",
        "rating": 9
       },
       {
        "name": "S'cream",
        "rating": 7
       },
       {
        "name": "Summer's Ice Cream",
        "rating": 9
       },
       {
        "name": "Starbucks",
        "rating": 5
       },
       {
        "name": "Calii Love",
        "rating": 7
       },
       {
        "name": "Whole Foods Market",
        "rating": 7
       },
       {
        "name": "Kasa Moto",
        "rating": 7
       },
       {
        "name": "Tim Hortons",
        "rating": 5
       },
       {
        "name": "Gemma Gelataria",
        "rating": 7
       },
       {
        "name": "Pusateri's Fine Foods",
        "rating": 6
       },
       {
        "name": "Hattendo",
        "rating": 7
       },
       {
        "name": "Bellair Coffee Plus",
        "rating": 2
       },
       {
        "name": "Starbucks",
        "rating": 8
       }
      ],
      "text/plain": [
       "<IPython.core.display.JSON object>"
      ]
     },
     "execution_count": 13,
     "metadata": {
      "application/json": {
       "expanded": false,
       "root": "root"
      }
     },
     "output_type": "execute_result"
    }
   ],
   "source": [
    "#print in more appealing way\n",
    "JSON(all_coffee)"
   ]
  },
  {
   "cell_type": "code",
   "execution_count": 14,
   "id": "3aff3af3-e110-414f-b357-fe6d5950bca7",
   "metadata": {},
   "outputs": [
    {
     "data": {
      "text/html": [
       "<div>\n",
       "<style scoped>\n",
       "    .dataframe tbody tr th:only-of-type {\n",
       "        vertical-align: middle;\n",
       "    }\n",
       "\n",
       "    .dataframe tbody tr th {\n",
       "        vertical-align: top;\n",
       "    }\n",
       "\n",
       "    .dataframe thead th {\n",
       "        text-align: right;\n",
       "    }\n",
       "</style>\n",
       "<table border=\"1\" class=\"dataframe\">\n",
       "  <thead>\n",
       "    <tr style=\"text-align: right;\">\n",
       "      <th></th>\n",
       "      <th>name</th>\n",
       "      <th>rating</th>\n",
       "    </tr>\n",
       "  </thead>\n",
       "  <tbody>\n",
       "    <tr>\n",
       "      <th>0</th>\n",
       "      <td>Coffee Lunar</td>\n",
       "      <td>10.0</td>\n",
       "    </tr>\n",
       "    <tr>\n",
       "      <th>1</th>\n",
       "      <td>Nespresso Boutique Bar</td>\n",
       "      <td>8.0</td>\n",
       "    </tr>\n",
       "    <tr>\n",
       "      <th>2</th>\n",
       "      <td>Goldstruck Coffee</td>\n",
       "      <td>7.0</td>\n",
       "    </tr>\n",
       "    <tr>\n",
       "      <th>3</th>\n",
       "      <td>Dice Fruit Bar &amp; Cafe</td>\n",
       "      <td>9.0</td>\n",
       "    </tr>\n",
       "    <tr>\n",
       "      <th>4</th>\n",
       "      <td>Coco Espresso Bar</td>\n",
       "      <td>7.0</td>\n",
       "    </tr>\n",
       "  </tbody>\n",
       "</table>\n",
       "</div>"
      ],
      "text/plain": [
       "                     name  rating\n",
       "0            Coffee Lunar    10.0\n",
       "1  Nespresso Boutique Bar     8.0\n",
       "2       Goldstruck Coffee     7.0\n",
       "3   Dice Fruit Bar & Cafe     9.0\n",
       "4       Coco Espresso Bar     7.0"
      ]
     },
     "execution_count": 14,
     "metadata": {},
     "output_type": "execute_result"
    }
   ],
   "source": [
    "df_yelp = pd.DataFrame(all_coffee)\n",
    "df_yelp.head()"
   ]
  },
  {
   "cell_type": "code",
   "execution_count": 15,
   "id": "323bea0d-94aa-42d3-9641-fc4e1ec4f6fd",
   "metadata": {},
   "outputs": [
    {
     "data": {
      "text/html": [
       "<div>\n",
       "<style scoped>\n",
       "    .dataframe tbody tr th:only-of-type {\n",
       "        vertical-align: middle;\n",
       "    }\n",
       "\n",
       "    .dataframe tbody tr th {\n",
       "        vertical-align: top;\n",
       "    }\n",
       "\n",
       "    .dataframe thead th {\n",
       "        text-align: right;\n",
       "    }\n",
       "</style>\n",
       "<table border=\"1\" class=\"dataframe\">\n",
       "  <thead>\n",
       "    <tr style=\"text-align: right;\">\n",
       "      <th></th>\n",
       "      <th>name</th>\n",
       "      <th>rating</th>\n",
       "    </tr>\n",
       "  </thead>\n",
       "  <tbody>\n",
       "    <tr>\n",
       "      <th>0</th>\n",
       "      <td>Coffee Lunar</td>\n",
       "      <td>10.0</td>\n",
       "    </tr>\n",
       "    <tr>\n",
       "      <th>18</th>\n",
       "      <td>Caffiends</td>\n",
       "      <td>10.0</td>\n",
       "    </tr>\n",
       "    <tr>\n",
       "      <th>16</th>\n",
       "      <td>Scollard Variety &amp; Deli</td>\n",
       "      <td>9.0</td>\n",
       "    </tr>\n",
       "    <tr>\n",
       "      <th>39</th>\n",
       "      <td>Summer's Ice Cream</td>\n",
       "      <td>9.0</td>\n",
       "    </tr>\n",
       "    <tr>\n",
       "      <th>3</th>\n",
       "      <td>Dice Fruit Bar &amp; Cafe</td>\n",
       "      <td>9.0</td>\n",
       "    </tr>\n",
       "    <tr>\n",
       "      <th>37</th>\n",
       "      <td>KANDL Artistique</td>\n",
       "      <td>9.0</td>\n",
       "    </tr>\n",
       "    <tr>\n",
       "      <th>27</th>\n",
       "      <td>Starbucks</td>\n",
       "      <td>9.0</td>\n",
       "    </tr>\n",
       "    <tr>\n",
       "      <th>36</th>\n",
       "      <td>PLANTA</td>\n",
       "      <td>8.0</td>\n",
       "    </tr>\n",
       "    <tr>\n",
       "      <th>31</th>\n",
       "      <td>Utsav</td>\n",
       "      <td>8.0</td>\n",
       "    </tr>\n",
       "    <tr>\n",
       "      <th>29</th>\n",
       "      <td>Joni Restaurant</td>\n",
       "      <td>8.0</td>\n",
       "    </tr>\n",
       "  </tbody>\n",
       "</table>\n",
       "</div>"
      ],
      "text/plain": [
       "                       name  rating\n",
       "0              Coffee Lunar    10.0\n",
       "18                Caffiends    10.0\n",
       "16  Scollard Variety & Deli     9.0\n",
       "39       Summer's Ice Cream     9.0\n",
       "3     Dice Fruit Bar & Cafe     9.0\n",
       "37         KANDL Artistique     9.0\n",
       "27                Starbucks     9.0\n",
       "36                   PLANTA     8.0\n",
       "31                    Utsav     8.0\n",
       "29          Joni Restaurant     8.0"
      ]
     },
     "execution_count": 15,
     "metadata": {},
     "output_type": "execute_result"
    }
   ],
   "source": [
    "df_yelp_rank = df_yelp.sort_values(by='rating', ascending = False)\n",
    "df_yelp_rank.head(10)"
   ]
  },
  {
   "cell_type": "code",
   "execution_count": 16,
   "id": "43627aaf-18c4-456a-97b2-09e30b72a35d",
   "metadata": {},
   "outputs": [
    {
     "data": {
      "application/json": {
       "businesses": [
        {
         "alias": "coffee-lunar-toronto",
         "categories": [
          {
           "alias": "coffee",
           "title": "Coffee & Tea"
          },
          {
           "alias": "desserts",
           "title": "Desserts"
          }
         ],
         "coordinates": {
          "latitude": 43.674107654920775,
          "longitude": -79.3890833
         },
         "display_phone": "",
         "distance": 492.753704855612,
         "id": "qXFjkI_L3Ws3diveYocNFg",
         "image_url": "https://s3-media1.fl.yelpcdn.com/bphoto/Tg6F2P8Lr3J692jAxOtOpg/o.jpg",
         "is_closed": false,
         "location": {
          "address1": "920 Yonge Street",
          "address2": "",
          "address3": null,
          "city": "Toronto",
          "country": "CA",
          "display_address": [
           "920 Yonge Street",
           "Toronto, ON M4W 3C7",
           "Canada"
          ],
          "state": "ON",
          "zip_code": "M4W 3C7"
         },
         "name": "Coffee Lunar",
         "phone": "",
         "rating": 5,
         "review_count": 24,
         "transactions": [],
         "url": "https://www.yelp.com/biz/coffee-lunar-toronto?adjust_creative=QPx7thjBLIRNuHC-XQWErw&utm_campaign=yelp_api_v3&utm_medium=api_v3_business_search&utm_source=QPx7thjBLIRNuHC-XQWErw"
        },
        {
         "alias": "nespresso-boutique-bar-toronto",
         "categories": [
          {
           "alias": "coffee",
           "title": "Coffee & Tea"
          },
          {
           "alias": "cafes",
           "title": "Cafes"
          }
         ],
         "coordinates": {
          "latitude": 43.6697469,
          "longitude": -79.3934129
         },
         "display_phone": "+1 800-562-1465",
         "distance": 111.06118974417944,
         "id": "xsFJZu4nME615byZVrpMGA",
         "image_url": "https://s3-media2.fl.yelpcdn.com/bphoto/IGgrTc-hwNtuMlokbTkYAQ/o.jpg",
         "is_closed": false,
         "location": {
          "address1": "159 Cumberland Street",
          "address2": "",
          "address3": "",
          "city": "Toronto",
          "country": "CA",
          "display_address": [
           "159 Cumberland Street",
           "Toronto, ON M5R 1A2",
           "Canada"
          ],
          "state": "ON",
          "zip_code": "M5R 1A2"
         },
         "name": "Nespresso Boutique Bar",
         "phone": "+18005621465",
         "price": "$$",
         "rating": 4,
         "review_count": 61,
         "transactions": [],
         "url": "https://www.yelp.com/biz/nespresso-boutique-bar-toronto?adjust_creative=QPx7thjBLIRNuHC-XQWErw&utm_campaign=yelp_api_v3&utm_medium=api_v3_business_search&utm_source=QPx7thjBLIRNuHC-XQWErw"
        },
        {
         "alias": "goldstruck-coffee-toronto",
         "categories": [
          {
           "alias": "coffee",
           "title": "Coffee & Tea"
          }
         ],
         "coordinates": {
          "latitude": 43.6702819,
          "longitude": -79.3923225
         },
         "display_phone": "",
         "distance": 71.6286021514554,
         "id": "l1SGwoX-qkd17XUNkrvskQ",
         "image_url": "https://s3-media2.fl.yelpcdn.com/bphoto/HbSMUYdEeU4Jbp5XJ_flkg/o.jpg",
         "is_closed": false,
         "location": {
          "address1": "130 Cumberland Street",
          "address2": "",
          "address3": null,
          "city": "Toronto",
          "country": "CA",
          "display_address": [
           "130 Cumberland Street",
           "Toronto, ON M5R",
           "Canada"
          ],
          "state": "ON",
          "zip_code": "M5R"
         },
         "name": "Goldstruck Coffee",
         "phone": "",
         "price": "$",
         "rating": 3.5,
         "review_count": 70,
         "transactions": [],
         "url": "https://www.yelp.com/biz/goldstruck-coffee-toronto?adjust_creative=QPx7thjBLIRNuHC-XQWErw&utm_campaign=yelp_api_v3&utm_medium=api_v3_business_search&utm_source=QPx7thjBLIRNuHC-XQWErw"
        },
        {
         "alias": "dice-fruit-bar-and-cafe-toronto",
         "categories": [
          {
           "alias": "juicebars",
           "title": "Juice Bars & Smoothies"
          },
          {
           "alias": "coffee",
           "title": "Coffee & Tea"
          },
          {
           "alias": "cafes",
           "title": "Cafes"
          }
         ],
         "coordinates": {
          "latitude": 43.6698573594879,
          "longitude": -79.3932969868183
         },
         "display_phone": "+1 647-341-3423",
         "distance": 96.69408649987702,
         "id": "bzUo36BsuU0O_wGdROHnGQ",
         "image_url": "https://s3-media3.fl.yelpcdn.com/bphoto/uPE48gVxT4Wfdp02Y994Ag/o.jpg",
         "is_closed": false,
         "location": {
          "address1": "162 Cumberland Street",
          "address2": "",
          "address3": null,
          "city": "Toronto",
          "country": "CA",
          "display_address": [
           "162 Cumberland Street",
           "Toronto, ON M5R 1A8",
           "Canada"
          ],
          "state": "ON",
          "zip_code": "M5R 1A8"
         },
         "name": "Dice Fruit Bar & Cafe",
         "phone": "+16473413423",
         "rating": 4.5,
         "review_count": 14,
         "transactions": [],
         "url": "https://www.yelp.com/biz/dice-fruit-bar-and-cafe-toronto?adjust_creative=QPx7thjBLIRNuHC-XQWErw&utm_campaign=yelp_api_v3&utm_medium=api_v3_business_search&utm_source=QPx7thjBLIRNuHC-XQWErw"
        },
        {
         "alias": "coco-espresso-bar-toronto",
         "categories": [
          {
           "alias": "cafes",
           "title": "Cafes"
          }
         ],
         "coordinates": {
          "latitude": 43.6709363963599,
          "longitude": -79.391081251717
         },
         "display_phone": "+1 416-934-9292",
         "distance": 156.54624788227258,
         "id": "t7m7E8foZvMHu6y7WDzhcw",
         "image_url": "https://s3-media2.fl.yelpcdn.com/bphoto/jOG7nbJVmlQXmlTMuKiQEQ/o.jpg",
         "is_closed": false,
         "location": {
          "address1": "29 Bellair Street",
          "address2": "",
          "address3": null,
          "city": "Toronto",
          "country": "CA",
          "display_address": [
           "29 Bellair Street",
           "Toronto, ON M5R 2C8",
           "Canada"
          ],
          "state": "ON",
          "zip_code": "M5R 2C8"
         },
         "name": "Coco Espresso Bar",
         "phone": "+14169349292",
         "price": "$",
         "rating": 3.5,
         "review_count": 14,
         "transactions": [],
         "url": "https://www.yelp.com/biz/coco-espresso-bar-toronto?adjust_creative=QPx7thjBLIRNuHC-XQWErw&utm_campaign=yelp_api_v3&utm_medium=api_v3_business_search&utm_source=QPx7thjBLIRNuHC-XQWErw"
        },
        {
         "alias": "zaza-espresso-bar-toronto",
         "categories": [
          {
           "alias": "coffee",
           "title": "Coffee & Tea"
          }
         ],
         "coordinates": {
          "latitude": 43.670953081962,
          "longitude": -79.391092966273
         },
         "display_phone": "+1 416-934-9292",
         "distance": 155.94160955177045,
         "id": "X1uGPGLXPLfSx9OTA5_vQg",
         "image_url": "https://s3-media3.fl.yelpcdn.com/bphoto/Taagk6VYi83G3OCnjX3GGw/o.jpg",
         "is_closed": false,
         "location": {
          "address1": "75 Yorkville Avenue",
          "address2": "",
          "address3": "",
          "city": "Toronto",
          "country": "CA",
          "display_address": [
           "75 Yorkville Avenue",
           "Toronto, ON M5R 1B8",
           "Canada"
          ],
          "state": "ON",
          "zip_code": "M5R 1B8"
         },
         "name": "Zaza Espresso Bar",
         "phone": "+14169349292",
         "price": "$$",
         "rating": 4,
         "review_count": 75,
         "transactions": [],
         "url": "https://www.yelp.com/biz/zaza-espresso-bar-toronto?adjust_creative=QPx7thjBLIRNuHC-XQWErw&utm_campaign=yelp_api_v3&utm_medium=api_v3_business_search&utm_source=QPx7thjBLIRNuHC-XQWErw"
        },
        {
         "alias": "a-ok-cafe-toronto-2",
         "categories": [
          {
           "alias": "coffee",
           "title": "Coffee & Tea"
          }
         ],
         "coordinates": {
          "latitude": 43.67019154917711,
          "longitude": -79.38770128423741
         },
         "display_phone": "+1 416-934-0935",
         "distance": 429.9084765468404,
         "id": "oqUMJoyqkBtPEDaHq7aYmQ",
         "image_url": "https://s3-media2.fl.yelpcdn.com/bphoto/y1dKIAp-O8huNpeZg_4OLg/o.jpg",
         "is_closed": false,
         "location": {
          "address1": "50 Bloor Street W",
          "address2": "",
          "address3": null,
          "city": "Toronto",
          "country": "CA",
          "display_address": [
           "50 Bloor Street W",
           "Toronto, ON M4W 3L8",
           "Canada"
          ],
          "state": "ON",
          "zip_code": "M4W 3L8"
         },
         "name": "A-OK CAFE",
         "phone": "+14169340935",
         "rating": 4,
         "review_count": 40,
         "transactions": [],
         "url": "https://www.yelp.com/biz/a-ok-cafe-toronto-2?adjust_creative=QPx7thjBLIRNuHC-XQWErw&utm_campaign=yelp_api_v3&utm_medium=api_v3_business_search&utm_source=QPx7thjBLIRNuHC-XQWErw"
        },
        {
         "alias": "zaza-espresso-bar-toronto-10",
         "categories": [
          {
           "alias": "coffee",
           "title": "Coffee & Tea"
          }
         ],
         "coordinates": {
          "latitude": 43.67014,
          "longitude": -79.39365
         },
         "display_phone": "",
         "distance": 97.46283485728958,
         "id": "tiORHfgBOeBl-2XYgFioHg",
         "image_url": "https://s3-media2.fl.yelpcdn.com/bphoto/S9nnZ0L0t0yxP9B_a0eNLA/o.jpg",
         "is_closed": false,
         "location": {
          "address1": "162 Cumberland Street",
          "address2": "",
          "address3": null,
          "city": "Toronto",
          "country": "CA",
          "display_address": [
           "162 Cumberland Street",
           "Toronto, ON M5R 1A8",
           "Canada"
          ],
          "state": "ON",
          "zip_code": "M5R 1A8"
         },
         "name": "Zaza Espresso Bar",
         "phone": "",
         "rating": 3.5,
         "review_count": 6,
         "transactions": [],
         "url": "https://www.yelp.com/biz/zaza-espresso-bar-toronto-10?adjust_creative=QPx7thjBLIRNuHC-XQWErw&utm_campaign=yelp_api_v3&utm_medium=api_v3_business_search&utm_source=QPx7thjBLIRNuHC-XQWErw"
        },
        {
         "alias": "jacked-up-coffee-toronto",
         "categories": [
          {
           "alias": "coffee",
           "title": "Coffee & Tea"
          },
          {
           "alias": "foodtrucks",
           "title": "Food Trucks"
          }
         ],
         "coordinates": {
          "latitude": 43.6706,
          "longitude": -79.39392
         },
         "display_phone": "+1 905-924-0031",
         "distance": 93.88678934645502,
         "id": "WSYfCHipv1lyEZzhIe-LIA",
         "image_url": "https://s3-media2.fl.yelpcdn.com/bphoto/44QCu1Wqri5YjVLvOo0H5w/o.jpg",
         "is_closed": false,
         "location": {
          "address1": "",
          "address2": "",
          "address3": null,
          "city": "Toronto",
          "country": "CA",
          "display_address": [
           "Toronto, ON M5R 1C2",
           "Canada"
          ],
          "state": "ON",
          "zip_code": "M5R 1C2"
         },
         "name": "Jacked Up Coffee",
         "phone": "+19059240031",
         "rating": 4,
         "review_count": 8,
         "transactions": [],
         "url": "https://www.yelp.com/biz/jacked-up-coffee-toronto?adjust_creative=QPx7thjBLIRNuHC-XQWErw&utm_campaign=yelp_api_v3&utm_medium=api_v3_business_search&utm_source=QPx7thjBLIRNuHC-XQWErw"
        },
        {
         "alias": "havana-coffee-bar-toronto",
         "categories": [
          {
           "alias": "coffee",
           "title": "Coffee & Tea"
          }
         ],
         "coordinates": {
          "latitude": 43.6745,
          "longitude": -79.3966
         },
         "display_phone": "+1 416-968-1097",
         "distance": 520.03934638523,
         "id": "4LPF1T64uLpwL6z4_ITJgQ",
         "image_url": "https://s3-media4.fl.yelpcdn.com/bphoto/1uJQJDuIThfiR7yspy1UGw/o.jpg",
         "is_closed": false,
         "location": {
          "address1": "233 Davenport Road",
          "address2": "",
          "address3": "",
          "city": "Toronto",
          "country": "CA",
          "display_address": [
           "233 Davenport Road",
           "Toronto, ON M5R 1J9",
           "Canada"
          ],
          "state": "ON",
          "zip_code": "M5R 1J9"
         },
         "name": "Havana Coffee Bar",
         "phone": "+14169681097",
         "price": "$",
         "rating": 4,
         "review_count": 9,
         "transactions": [],
         "url": "https://www.yelp.com/biz/havana-coffee-bar-toronto?adjust_creative=QPx7thjBLIRNuHC-XQWErw&utm_campaign=yelp_api_v3&utm_medium=api_v3_business_search&utm_source=QPx7thjBLIRNuHC-XQWErw"
        },
        {
         "alias": "neds-cafe-toronto",
         "categories": [
          {
           "alias": "coffee",
           "title": "Coffee & Tea"
          }
         ],
         "coordinates": {
          "latitude": 43.6676467553761,
          "longitude": -79.3925198722218
         },
         "display_phone": "+1 416-585-4521",
         "distance": 341.69416874537967,
         "id": "VKH4D4eXgnk1hK4Xt6fziQ",
         "image_url": "https://s3-media3.fl.yelpcdn.com/bphoto/Vv24LQ0DEuDjStZJVU9PSA/o.jpg",
         "is_closed": false,
         "location": {
          "address1": "150 Charles Street W",
          "address2": "Room 127",
          "address3": "",
          "city": "Toronto",
          "country": "CA",
          "display_address": [
           "150 Charles Street W",
           "Room 127",
           "Toronto, ON M5S 1K9",
           "Canada"
          ],
          "state": "ON",
          "zip_code": "M5S 1K9"
         },
         "name": "Ned's Cafe",
         "phone": "+14165854521",
         "rating": 4,
         "review_count": 5,
         "transactions": [],
         "url": "https://www.yelp.com/biz/neds-cafe-toronto?adjust_creative=QPx7thjBLIRNuHC-XQWErw&utm_campaign=yelp_api_v3&utm_medium=api_v3_business_search&utm_source=QPx7thjBLIRNuHC-XQWErw"
        },
        {
         "alias": "dessert-lady-café-toronto-3",
         "categories": [
          {
           "alias": "desserts",
           "title": "Desserts"
          },
          {
           "alias": "bakeries",
           "title": "Bakeries"
          },
          {
           "alias": "breakfast_brunch",
           "title": "Breakfast & Brunch"
          }
         ],
         "coordinates": {
          "latitude": 43.6687719038749,
          "longitude": -79.3902338231143
         },
         "display_phone": "+1 416-513-1118",
         "distance": 308.9737680661293,
         "id": "1RE-r3jSXwDoH252u2or1g",
         "image_url": "https://s3-media1.fl.yelpcdn.com/bphoto/8jTFU6vmrtk9JQHxWMxprA/o.jpg",
         "is_closed": false,
         "location": {
          "address1": "1 Sultan Street",
          "address2": "",
          "address3": null,
          "city": "Toronto",
          "country": "CA",
          "display_address": [
           "1 Sultan Street",
           "Toronto, ON M5S 1L6",
           "Canada"
          ],
          "state": "ON",
          "zip_code": "M5S 1L6"
         },
         "name": "Dessert Lady Café",
         "phone": "+14165131118",
         "rating": 4,
         "review_count": 18,
         "transactions": [],
         "url": "https://www.yelp.com/biz/dessert-lady-caf%C3%A9-toronto-3?adjust_creative=QPx7thjBLIRNuHC-XQWErw&utm_campaign=yelp_api_v3&utm_medium=api_v3_business_search&utm_source=QPx7thjBLIRNuHC-XQWErw"
        },
        {
         "alias": "b-espresso-bar-toronto-3",
         "categories": [
          {
           "alias": "cafes",
           "title": "Cafes"
          }
         ],
         "coordinates": {
          "latitude": 43.66786,
          "longitude": -79.3960199
         },
         "display_phone": "+1 416-506-0001",
         "distance": 415.41723028159635,
         "id": "t4PZ3r2eTPeDXWNiV4Cr0g",
         "image_url": "https://s3-media1.fl.yelpcdn.com/bphoto/8-EM80XcT-Jzv50AmS_UIw/o.jpg",
         "is_closed": false,
         "location": {
          "address1": "273 Bloor Street W",
          "address2": "",
          "address3": "",
          "city": "Toronto",
          "country": "CA",
          "display_address": [
           "273 Bloor Street W",
           "Toronto, ON M5S 1W2",
           "Canada"
          ],
          "state": "ON",
          "zip_code": "M5S 1W2"
         },
         "name": "B Espresso Bar",
         "phone": "+14165060001",
         "price": "$$",
         "rating": 3,
         "review_count": 15,
         "transactions": [],
         "url": "https://www.yelp.com/biz/b-espresso-bar-toronto-3?adjust_creative=QPx7thjBLIRNuHC-XQWErw&utm_campaign=yelp_api_v3&utm_medium=api_v3_business_search&utm_source=QPx7thjBLIRNuHC-XQWErw"
        },
        {
         "alias": "5-elements-espresso-bar-toronto",
         "categories": [
          {
           "alias": "coffee",
           "title": "Coffee & Tea"
          }
         ],
         "coordinates": {
          "latitude": 43.6737858,
          "longitude": -79.3958557
         },
         "display_phone": "+1 647-352-5330",
         "distance": 412.8995232258962,
         "id": "8zwfzcfzZUfIkWOzQKFBPw",
         "image_url": "https://s3-media2.fl.yelpcdn.com/bphoto/wdlucbblJhRw6uYoGBebzQ/o.jpg",
         "is_closed": false,
         "location": {
          "address1": "131 Avenue Road",
          "address2": "",
          "address3": "",
          "city": "Toronto",
          "country": "CA",
          "display_address": [
           "131 Avenue Road",
           "Toronto, ON M5R 2H7",
           "Canada"
          ],
          "state": "ON",
          "zip_code": "M5R 2H7"
         },
         "name": "5 Elements Espresso Bar",
         "phone": "+16473525330",
         "price": "$$",
         "rating": 3,
         "review_count": 26,
         "transactions": [],
         "url": "https://www.yelp.com/biz/5-elements-espresso-bar-toronto?adjust_creative=QPx7thjBLIRNuHC-XQWErw&utm_campaign=yelp_api_v3&utm_medium=api_v3_business_search&utm_source=QPx7thjBLIRNuHC-XQWErw"
        },
        {
         "alias": "balzac-s-coffee-roasters-toronto",
         "categories": [
          {
           "alias": "coffee",
           "title": "Coffee & Tea"
          },
          {
           "alias": "coffeeroasteries",
           "title": "Coffee Roasteries"
          }
         ],
         "coordinates": {
          "latitude": 43.671744100048,
          "longitude": -79.3872660398483
         },
         "display_phone": "+1 416-922-3700",
         "distance": 475.564454432949,
         "id": "225qTLqhdBmJskUEr76Kww",
         "image_url": "https://s3-media3.fl.yelpcdn.com/bphoto/iJLSvqwvA4I91z0OSO9qHA/o.jpg",
         "is_closed": false,
         "location": {
          "address1": "789 Yonge Street",
          "address2": "",
          "address3": "",
          "city": "Toronto",
          "country": "CA",
          "display_address": [
           "789 Yonge Street",
           "Toronto, ON M4W 2G8",
           "Canada"
          ],
          "state": "ON",
          "zip_code": "M4W 2G8"
         },
         "name": "Balzac’s Coffee Roasters",
         "phone": "+14169223700",
         "price": "$",
         "rating": 3.5,
         "review_count": 52,
         "transactions": [],
         "url": "https://www.yelp.com/biz/balzac-s-coffee-roasters-toronto?adjust_creative=QPx7thjBLIRNuHC-XQWErw&utm_campaign=yelp_api_v3&utm_medium=api_v3_business_search&utm_source=QPx7thjBLIRNuHC-XQWErw"
        },
        {
         "alias": "pilot-coffee-roasters-toronto-7",
         "categories": [
          {
           "alias": "coffeeroasteries",
           "title": "Coffee Roasteries"
          }
         ],
         "coordinates": {
          "latitude": 43.66963,
          "longitude": -79.38864
         },
         "display_phone": "+1 416-519-8182",
         "distance": 426.63217828595197,
         "id": "t4l8waJXz7Rj2KLIT06RVA",
         "image_url": "https://s3-media2.fl.yelpcdn.com/bphoto/TH4CPnAtm-xilHFhqZ7lOg/o.jpg",
         "is_closed": false,
         "location": {
          "address1": "55 Bloor Street W",
          "address2": "",
          "address3": null,
          "city": "Toronto",
          "country": "CA",
          "display_address": [
           "55 Bloor Street W",
           "Toronto, ON M4W 1A6",
           "Canada"
          ],
          "state": "ON",
          "zip_code": "M4W 1A6"
         },
         "name": "Pilot Coffee Roasters",
         "phone": "+14165198182",
         "rating": 3,
         "review_count": 12,
         "transactions": [],
         "url": "https://www.yelp.com/biz/pilot-coffee-roasters-toronto-7?adjust_creative=QPx7thjBLIRNuHC-XQWErw&utm_campaign=yelp_api_v3&utm_medium=api_v3_business_search&utm_source=QPx7thjBLIRNuHC-XQWErw"
        },
        {
         "alias": "scollard-variety-and-deli-toronto",
         "categories": [
          {
           "alias": "diners",
           "title": "Diners"
          },
          {
           "alias": "breakfast_brunch",
           "title": "Breakfast & Brunch"
          },
          {
           "alias": "delis",
           "title": "Delis"
          }
         ],
         "coordinates": {
          "latitude": 43.6716977,
          "longitude": -79.3921869
         },
         "display_phone": "+1 416-964-9326",
         "distance": 128.77964265863025,
         "id": "Okj0YwamsE5mwsfFkQk_jw",
         "image_url": "https://s3-media3.fl.yelpcdn.com/bphoto/bTdqD1AaJt9p2JZTYzaVBg/o.jpg",
         "is_closed": false,
         "location": {
          "address1": "105 Scollard Street",
          "address2": "",
          "address3": "",
          "city": "Toronto",
          "country": "CA",
          "display_address": [
           "105 Scollard Street",
           "Toronto, ON M5R 1G4",
           "Canada"
          ],
          "state": "ON",
          "zip_code": "M5R 1G4"
         },
         "name": "Scollard Variety & Deli",
         "phone": "+14169649326",
         "price": "$$",
         "rating": 4.5,
         "review_count": 32,
         "transactions": [],
         "url": "https://www.yelp.com/biz/scollard-variety-and-deli-toronto?adjust_creative=QPx7thjBLIRNuHC-XQWErw&utm_campaign=yelp_api_v3&utm_medium=api_v3_business_search&utm_source=QPx7thjBLIRNuHC-XQWErw"
        },
        {
         "alias": "café-boulud-toronto",
         "categories": [
          {
           "alias": "cafes",
           "title": "Cafes"
          },
          {
           "alias": "desserts",
           "title": "Desserts"
          },
          {
           "alias": "french",
           "title": "French"
          }
         ],
         "coordinates": {
          "latitude": 43.6719213,
          "longitude": -79.388922
         },
         "display_phone": "+1 416-963-6000",
         "distance": 354.99067917721464,
         "id": "9ET_RUNztevq4_OLAX80Gg",
         "image_url": "https://s3-media2.fl.yelpcdn.com/bphoto/XGWzAa7Cw3QreYUemxgWVg/o.jpg",
         "is_closed": false,
         "location": {
          "address1": "60 Yorkville Avenue",
          "address2": "",
          "address3": "",
          "city": "Toronto",
          "country": "CA",
          "display_address": [
           "60 Yorkville Avenue",
           "Toronto, ON M4W 0A4",
           "Canada"
          ],
          "state": "ON",
          "zip_code": "M4W 0A4"
         },
         "name": "Café Boulud",
         "phone": "+14169636000",
         "price": "$$$$",
         "rating": 3.5,
         "review_count": 271,
         "transactions": [],
         "url": "https://www.yelp.com/biz/caf%C3%A9-boulud-toronto?adjust_creative=QPx7thjBLIRNuHC-XQWErw&utm_campaign=yelp_api_v3&utm_medium=api_v3_business_search&utm_source=QPx7thjBLIRNuHC-XQWErw"
        },
        {
         "alias": "caffiends-toronto",
         "categories": [
          {
           "alias": "cafes",
           "title": "Cafes"
          }
         ],
         "coordinates": {
          "latitude": 43.6669946,
          "longitude": -79.3920457
         },
         "display_phone": "",
         "distance": 419.1097762840423,
         "id": "D5TMuuWTBz4I8UJQEVX5Hw",
         "image_url": "https://s3-media2.fl.yelpcdn.com/bphoto/C_qLs7WRBMVv_FZz5RDAMw/o.jpg",
         "is_closed": false,
         "location": {
          "address1": "91 Charles Street W",
          "address2": "Unit 111",
          "address3": "",
          "city": "Toronto",
          "country": "CA",
          "display_address": [
           "91 Charles Street W",
           "Unit 111",
           "Toronto, ON M5S 1K6",
           "Canada"
          ],
          "state": "ON",
          "zip_code": "M5S 1K6"
         },
         "name": "Caffiends",
         "phone": "",
         "rating": 5,
         "review_count": 1,
         "transactions": [],
         "url": "https://www.yelp.com/biz/caffiends-toronto?adjust_creative=QPx7thjBLIRNuHC-XQWErw&utm_campaign=yelp_api_v3&utm_medium=api_v3_business_search&utm_source=QPx7thjBLIRNuHC-XQWErw"
        },
        {
         "alias": "dessert-lady-café-toronto-2",
         "categories": [
          {
           "alias": "bakeries",
           "title": "Bakeries"
          },
          {
           "alias": "desserts",
           "title": "Desserts"
          }
         ],
         "coordinates": {
          "latitude": 43.67113,
          "longitude": -79.38792
         },
         "display_phone": "+1 416-924-3223",
         "distance": 407.52554146756654,
         "id": "n9w8JmmmpZHVUaPY98gbZw",
         "image_url": "https://s3-media4.fl.yelpcdn.com/bphoto/k2t4YvUOL4qE1nWeAF3nAA/o.jpg",
         "is_closed": false,
         "location": {
          "address1": "12 Cumberland St",
          "address2": "",
          "address3": "",
          "city": "Toronto",
          "country": "CA",
          "display_address": [
           "12 Cumberland St",
           "Toronto, ON M4W 1J5",
           "Canada"
          ],
          "state": "ON",
          "zip_code": "M4W 1J5"
         },
         "name": "Dessert Lady Café",
         "phone": "+14169243223",
         "price": "$$",
         "rating": 4,
         "review_count": 115,
         "transactions": [],
         "url": "https://www.yelp.com/biz/dessert-lady-caf%C3%A9-toronto-2?adjust_creative=QPx7thjBLIRNuHC-XQWErw&utm_campaign=yelp_api_v3&utm_medium=api_v3_business_search&utm_source=QPx7thjBLIRNuHC-XQWErw"
        },
        {
         "alias": "venchi-at-eataly-toronto-toronto",
         "categories": [
          {
           "alias": "cafes",
           "title": "Cafes"
          },
          {
           "alias": "bakeries",
           "title": "Bakeries"
          },
          {
           "alias": "chocolate",
           "title": "Chocolatiers & Shops"
          }
         ],
         "coordinates": {
          "latitude": 43.6691789,
          "longitude": -79.3881303
         },
         "display_phone": "",
         "distance": 426.63217828595197,
         "id": "44xtmOEmBLBW0BpC6DKOOg",
         "image_url": "https://s3-media4.fl.yelpcdn.com/bphoto/E-7w3aZzRi4YRgqISplBpQ/o.jpg",
         "is_closed": false,
         "location": {
          "address1": "55 Bloor Street W",
          "address2": "",
          "address3": null,
          "city": "Toronto",
          "country": "CA",
          "display_address": [
           "55 Bloor Street W",
           "Toronto, ON M4W 3N5",
           "Canada"
          ],
          "state": "ON",
          "zip_code": "M4W 3N5"
         },
         "name": "Venchi at Eataly Toronto",
         "phone": "",
         "rating": 4,
         "review_count": 1,
         "transactions": [],
         "url": "https://www.yelp.com/biz/venchi-at-eataly-toronto-toronto?adjust_creative=QPx7thjBLIRNuHC-XQWErw&utm_campaign=yelp_api_v3&utm_medium=api_v3_business_search&utm_source=QPx7thjBLIRNuHC-XQWErw"
        },
        {
         "alias": "portici-toronto",
         "categories": [
          {
           "alias": "italian",
           "title": "Italian"
          },
          {
           "alias": "pizza",
           "title": "Pizza"
          },
          {
           "alias": "cafes",
           "title": "Cafes"
          }
         ],
         "coordinates": {
          "latitude": 43.67196,
          "longitude": -79.39072
         },
         "display_phone": "+1 647-351-2235",
         "distance": 417.418907635918,
         "id": "p1ohbPwI1QfjHQ2zRup5OA",
         "image_url": "https://s3-media3.fl.yelpcdn.com/bphoto/2liqfazZl8cMfJCHsNbfpw/o.jpg",
         "is_closed": false,
         "location": {
          "address1": "6 Scollard Street",
          "address2": "",
          "address3": "",
          "city": "Toronto",
          "country": "CA",
          "display_address": [
           "6 Scollard Street",
           "Toronto, ON M5R 1E9",
           "Canada"
          ],
          "state": "ON",
          "zip_code": "M5R 1E9"
         },
         "name": "Portici",
         "phone": "+16473512235",
         "price": "$$",
         "rating": 4,
         "review_count": 85,
         "transactions": [],
         "url": "https://www.yelp.com/biz/portici-toronto?adjust_creative=QPx7thjBLIRNuHC-XQWErw&utm_campaign=yelp_api_v3&utm_medium=api_v3_business_search&utm_source=QPx7thjBLIRNuHC-XQWErw"
        },
        {
         "alias": "caroles-cheesecake-cafe-toronto",
         "categories": [
          {
           "alias": "desserts",
           "title": "Desserts"
          },
          {
           "alias": "bakeries",
           "title": "Bakeries"
          },
          {
           "alias": "cafes",
           "title": "Cafes"
          }
         ],
         "coordinates": {
          "latitude": 43.67029,
          "longitude": -79.3916
         },
         "display_phone": "+1 416-849-1499",
         "distance": 123.05335113655121,
         "id": "RXaxKQJtExnRZX1inf8Nyg",
         "image_url": "https://s3-media3.fl.yelpcdn.com/bphoto/rTBxGXzE0SLyf1kqnyxEGQ/o.jpg",
         "is_closed": false,
         "location": {
          "address1": "114 Cumberland Street",
          "address2": "",
          "address3": "",
          "city": "Toronto",
          "country": "CA",
          "display_address": [
           "114 Cumberland Street",
           "Toronto, ON M5R 1A6",
           "Canada"
          ],
          "state": "ON",
          "zip_code": "M5R 1A6"
         },
         "name": "Carole's Cheesecake Cafe",
         "phone": "+14168491499",
         "price": "$$",
         "rating": 3.5,
         "review_count": 209,
         "transactions": [],
         "url": "https://www.yelp.com/biz/caroles-cheesecake-cafe-toronto?adjust_creative=QPx7thjBLIRNuHC-XQWErw&utm_campaign=yelp_api_v3&utm_medium=api_v3_business_search&utm_source=QPx7thjBLIRNuHC-XQWErw"
        },
        {
         "alias": "chi-patisserie-toronto",
         "categories": [
          {
           "alias": "cakeshop",
           "title": "Patisserie/Cake Shop"
          }
         ],
         "coordinates": {
          "latitude": 43.67082,
          "longitude": -79.39167
         },
         "display_phone": "+1 647-345-8383",
         "distance": 115.74878349151057,
         "id": "4oFylcSh1JLSzsE95qkj9g",
         "image_url": "https://s3-media2.fl.yelpcdn.com/bphoto/TWVll1bflGA2ELfZ-dIsAQ/o.jpg",
         "is_closed": false,
         "location": {
          "address1": "87 Yorkville Ave",
          "address2": "Unit 3",
          "address3": null,
          "city": "Toronto",
          "country": "CA",
          "display_address": [
           "87 Yorkville Ave",
           "Unit 3",
           "Toronto, ON M5R 1B9",
           "Canada"
          ],
          "state": "ON",
          "zip_code": "M5R 1B9"
         },
         "name": "Chi Patisserie",
         "phone": "+16473458383",
         "price": "$$",
         "rating": 3.5,
         "review_count": 47,
         "transactions": [],
         "url": "https://www.yelp.com/biz/chi-patisserie-toronto?adjust_creative=QPx7thjBLIRNuHC-XQWErw&utm_campaign=yelp_api_v3&utm_medium=api_v3_business_search&utm_source=QPx7thjBLIRNuHC-XQWErw"
        },
        {
         "alias": "starbucks-toronto-51",
         "categories": [
          {
           "alias": "coffee",
           "title": "Coffee & Tea"
          }
         ],
         "coordinates": {
          "latitude": 43.6685295,
          "longitude": -79.3971329
         },
         "display_phone": "+1 416-926-0166",
         "distance": 425.62495058602013,
         "id": "p80K-OLjJYpIFWu9Ll5fyA",
         "image_url": "https://s3-media1.fl.yelpcdn.com/bphoto/XAst-kJX7LR_nbW17wYguQ/o.jpg",
         "is_closed": false,
         "location": {
          "address1": "1 Bedford Road",
          "address2": "",
          "address3": "",
          "city": "Toronto",
          "country": "CA",
          "display_address": [
           "1 Bedford Road",
           "Toronto, ON M5R 2J9",
           "Canada"
          ],
          "state": "ON",
          "zip_code": "M5R 2J9"
         },
         "name": "Starbucks",
         "phone": "+14169260166",
         "price": "$$",
         "rating": 3.5,
         "review_count": 26,
         "transactions": [],
         "url": "https://www.yelp.com/biz/starbucks-toronto-51?adjust_creative=QPx7thjBLIRNuHC-XQWErw&utm_campaign=yelp_api_v3&utm_medium=api_v3_business_search&utm_source=QPx7thjBLIRNuHC-XQWErw"
        },
        {
         "alias": "little-hut-cafe-toronto",
         "categories": [
          {
           "alias": "cafes",
           "title": "Cafes"
          },
          {
           "alias": "breakfast_brunch",
           "title": "Breakfast & Brunch"
          }
         ],
         "coordinates": {
          "latitude": 43.6703304,
          "longitude": -79.387232
         },
         "display_phone": "+1 416-792-0481",
         "distance": 465.7353993694369,
         "id": "5miPy1XSxlWMOQaQgr-2Rg",
         "image_url": "https://s3-media2.fl.yelpcdn.com/bphoto/pdCpV1_5N1_1Zn3orJlWRg/o.jpg",
         "is_closed": false,
         "location": {
          "address1": "2 Bloor Street W",
          "address2": "",
          "address3": "",
          "city": "Toronto",
          "country": "CA",
          "display_address": [
           "2 Bloor Street W",
           "Toronto, ON M4W 3R3",
           "Canada"
          ],
          "state": "ON",
          "zip_code": "M4W 3R3"
         },
         "name": "Little Hut Cafe",
         "phone": "+14167920481",
         "price": "$",
         "rating": 4,
         "review_count": 6,
         "transactions": [],
         "url": "https://www.yelp.com/biz/little-hut-cafe-toronto?adjust_creative=QPx7thjBLIRNuHC-XQWErw&utm_campaign=yelp_api_v3&utm_medium=api_v3_business_search&utm_source=QPx7thjBLIRNuHC-XQWErw"
        },
        {
         "alias": "eataly-toronto-5",
         "categories": [
          {
           "alias": "italian",
           "title": "Italian"
          },
          {
           "alias": "cheese",
           "title": "Cheese Shops"
          },
          {
           "alias": "pizza",
           "title": "Pizza"
          }
         ],
         "coordinates": {
          "latitude": 43.6696154170451,
          "longitude": -79.3887948598768
         },
         "display_phone": "+1 437-374-0250",
         "distance": 359.07837275983155,
         "id": "7UBOtHkr8dd1glP634Kkjw",
         "image_url": "https://s3-media1.fl.yelpcdn.com/bphoto/cJBWaH2wyLDRHYAMj1qWeg/o.jpg",
         "is_closed": false,
         "location": {
          "address1": "55 Bloor Street W",
          "address2": "",
          "address3": "Manulife Centre",
          "city": "Toronto",
          "country": "CA",
          "display_address": [
           "55 Bloor Street W",
           "Manulife Centre",
           "Toronto, ON M4W 1A6",
           "Canada"
          ],
          "state": "ON",
          "zip_code": "M4W 1A6"
         },
         "name": "Eataly",
         "phone": "+14373740250",
         "price": "$$",
         "rating": 3.5,
         "review_count": 258,
         "transactions": [],
         "url": "https://www.yelp.com/biz/eataly-toronto-5?adjust_creative=QPx7thjBLIRNuHC-XQWErw&utm_campaign=yelp_api_v3&utm_medium=api_v3_business_search&utm_source=QPx7thjBLIRNuHC-XQWErw"
        },
        {
         "alias": "starbucks-toronto-162",
         "categories": [
          {
           "alias": "coffee",
           "title": "Coffee & Tea"
          }
         ],
         "coordinates": {
          "latitude": 43.66948,
          "longitude": -79.3923
         },
         "display_phone": "+1 416-963-8754",
         "distance": 152.42874611628054,
         "id": "Vl8PYZKd26DHGSi5rNo5SQ",
         "image_url": "https://s3-media2.fl.yelpcdn.com/bphoto/DL8f87W9oRBQw0ZhWb4B8Q/o.jpg",
         "is_closed": false,
         "location": {
          "address1": "110 Bloor St W",
          "address2": "",
          "address3": "",
          "city": "Toronto",
          "country": "CA",
          "display_address": [
           "110 Bloor St W",
           "Toronto, ON M5S 2W7",
           "Canada"
          ],
          "state": "ON",
          "zip_code": "M5S 2W7"
         },
         "name": "Starbucks",
         "phone": "+14169638754",
         "price": "$$",
         "rating": 4.5,
         "review_count": 6,
         "transactions": [],
         "url": "https://www.yelp.com/biz/starbucks-toronto-162?adjust_creative=QPx7thjBLIRNuHC-XQWErw&utm_campaign=yelp_api_v3&utm_medium=api_v3_business_search&utm_source=QPx7thjBLIRNuHC-XQWErw"
        },
        {
         "alias": "holts-café-toronto-4",
         "categories": [
          {
           "alias": "cafes",
           "title": "Cafes"
          },
          {
           "alias": "newcanadian",
           "title": "Canadian (New)"
          },
          {
           "alias": "cocktailbars",
           "title": "Cocktail Bars"
          }
         ],
         "coordinates": {
          "latitude": 43.6703401,
          "longitude": -79.3882622
         },
         "display_phone": "+1 416-960-7817",
         "distance": 383.15550144931115,
         "id": "XBDe0pFAw1B32tpAQN5t2g",
         "image_url": "https://s3-media2.fl.yelpcdn.com/bphoto/YSZufQMR_L1hnVFQx61xpw/o.jpg",
         "is_closed": false,
         "location": {
          "address1": "50 Bloor Street West",
          "address2": "Fl 2",
          "address3": "",
          "city": "Toronto",
          "country": "CA",
          "display_address": [
           "50 Bloor Street West",
           "Fl 2",
           "Toronto, ON M4W 1A1",
           "Canada"
          ],
          "state": "ON",
          "zip_code": "M4W 1A1"
         },
         "name": "holts café",
         "phone": "+14169607817",
         "price": "$$",
         "rating": 3.5,
         "review_count": 49,
         "transactions": [],
         "url": "https://www.yelp.com/biz/holts-caf%C3%A9-toronto-4?adjust_creative=QPx7thjBLIRNuHC-XQWErw&utm_campaign=yelp_api_v3&utm_medium=api_v3_business_search&utm_source=QPx7thjBLIRNuHC-XQWErw"
        },
        {
         "alias": "joni-restaurant-toronto",
         "categories": [
          {
           "alias": "bistros",
           "title": "Bistros"
          },
          {
           "alias": "breakfast_brunch",
           "title": "Breakfast & Brunch"
          },
          {
           "alias": "cocktailbars",
           "title": "Cocktail Bars"
          }
         ],
         "coordinates": {
          "latitude": 43.66919,
          "longitude": -79.39471
         },
         "display_phone": "+1 647-948-3130",
         "distance": 228.31610074032247,
         "id": "NGZTLv4JBnGsb0ntINvTDg",
         "image_url": "https://s3-media4.fl.yelpcdn.com/bphoto/5aStjtoFPfezvyUZM3MakA/o.jpg",
         "is_closed": false,
         "location": {
          "address1": "4 Avenue Road",
          "address2": "",
          "address3": "Park Hyatt",
          "city": "Toronto",
          "country": "CA",
          "display_address": [
           "4 Avenue Road",
           "Park Hyatt",
           "Toronto, ON M5R 2E8",
           "Canada"
          ],
          "state": "ON",
          "zip_code": "M5R 2E8"
         },
         "name": "Joni Restaurant",
         "phone": "+16479483130",
         "rating": 4,
         "review_count": 10,
         "transactions": [],
         "url": "https://www.yelp.com/biz/joni-restaurant-toronto?adjust_creative=QPx7thjBLIRNuHC-XQWErw&utm_campaign=yelp_api_v3&utm_medium=api_v3_business_search&utm_source=QPx7thjBLIRNuHC-XQWErw"
        },
        {
         "alias": "yorkville-crepes-toronto-2",
         "categories": [
          {
           "alias": "creperies",
           "title": "Creperies"
          },
          {
           "alias": "cafes",
           "title": "Cafes"
          },
          {
           "alias": "desserts",
           "title": "Desserts"
          }
         ],
         "coordinates": {
          "latitude": 43.6721931,
          "longitude": -79.3878664
         },
         "display_phone": "+1 416-922-6765",
         "distance": 445.01733461550356,
         "id": "D87tFO-R6U8f4-e0r4Zq_g",
         "image_url": "https://s3-media3.fl.yelpcdn.com/bphoto/nVFRe5EHK8Kasi1WRaUicw/o.jpg",
         "is_closed": false,
         "location": {
          "address1": "18 Yorkville Avenue",
          "address2": "Unit 1",
          "address3": "",
          "city": "Toronto",
          "country": "CA",
          "display_address": [
           "18 Yorkville Avenue",
           "Unit 1",
           "Toronto, ON M4W 3Y8",
           "Canada"
          ],
          "state": "ON",
          "zip_code": "M4W 3Y8"
         },
         "name": "Yorkville Crepes",
         "phone": "+14169226765",
         "price": "$$",
         "rating": 3.5,
         "review_count": 182,
         "transactions": [],
         "url": "https://www.yelp.com/biz/yorkville-crepes-toronto-2?adjust_creative=QPx7thjBLIRNuHC-XQWErw&utm_campaign=yelp_api_v3&utm_medium=api_v3_business_search&utm_source=QPx7thjBLIRNuHC-XQWErw"
        },
        {
         "alias": "utsav-toronto",
         "categories": [
          {
           "alias": "fooddeliveryservices",
           "title": "Food Delivery Services"
          },
          {
           "alias": "indpak",
           "title": "Indian"
          }
         ],
         "coordinates": {
          "latitude": 43.67094,
          "longitude": -79.39086
         },
         "display_phone": "+1 416-961-8349",
         "distance": 169.14332454824319,
         "id": "Pz13Ru_-U4qoZiu89ezVmQ",
         "image_url": "https://s3-media2.fl.yelpcdn.com/bphoto/DUJRJ_etb3Beoa5DZ0wCxg/o.jpg",
         "is_closed": false,
         "location": {
          "address1": "69 Yorkville Ave",
          "address2": "",
          "address3": "",
          "city": "Toronto",
          "country": "CA",
          "display_address": [
           "69 Yorkville Ave",
           "Toronto, ON M5R 1B8",
           "Canada"
          ],
          "state": "ON",
          "zip_code": "M5R 1B8"
         },
         "name": "Utsav",
         "phone": "+14169618349",
         "price": "$$",
         "rating": 4,
         "review_count": 131,
         "transactions": [],
         "url": "https://www.yelp.com/biz/utsav-toronto?adjust_creative=QPx7thjBLIRNuHC-XQWErw&utm_campaign=yelp_api_v3&utm_medium=api_v3_business_search&utm_source=QPx7thjBLIRNuHC-XQWErw"
        },
        {
         "alias": "windsor-arms-hotel-tea-room-toronto-3",
         "categories": [
          {
           "alias": "tea",
           "title": "Tea Rooms"
          }
         ],
         "coordinates": {
          "latitude": 43.6688,
          "longitude": -79.39113
         },
         "display_phone": "+1 416-971-9666",
         "distance": 252.63014462246346,
         "id": "GjQBLRtmq8cJjekipzJ49g",
         "image_url": "https://s3-media1.fl.yelpcdn.com/bphoto/-8DxhXRW74ALFsx5wDdzjg/o.jpg",
         "is_closed": false,
         "location": {
          "address1": "18 St Thomas Street",
          "address2": "",
          "address3": "",
          "city": "Toronto",
          "country": "CA",
          "display_address": [
           "18 St Thomas Street",
           "Toronto, ON M5S 3E7",
           "Canada"
          ],
          "state": "ON",
          "zip_code": "M5S 3E7"
         },
         "name": "Windsor Arms Hotel Tea Room",
         "phone": "+14169719666",
         "price": "$$$",
         "rating": 2.5,
         "review_count": 206,
         "transactions": [],
         "url": "https://www.yelp.com/biz/windsor-arms-hotel-tea-room-toronto-3?adjust_creative=QPx7thjBLIRNuHC-XQWErw&utm_campaign=yelp_api_v3&utm_medium=api_v3_business_search&utm_source=QPx7thjBLIRNuHC-XQWErw"
        },
        {
         "alias": "aroma-espresso-bar-toronto-19",
         "categories": [
          {
           "alias": "cafes",
           "title": "Cafes"
          },
          {
           "alias": "bakeries",
           "title": "Bakeries"
          }
         ],
         "coordinates": {
          "latitude": 43.6678009,
          "longitude": -79.3888702
         },
         "display_phone": "+1 416-792-7662",
         "distance": 453.90420474169036,
         "id": "8klKfy9tK0ySi1l_ajOR5w",
         "image_url": "https://s3-media4.fl.yelpcdn.com/bphoto/ZpUbV-sTcaAyUYD5DsXSTQ/o.jpg",
         "is_closed": false,
         "location": {
          "address1": "1110 Bay Street",
          "address2": "",
          "address3": "",
          "city": "Toronto",
          "country": "CA",
          "display_address": [
           "1110 Bay Street",
           "Toronto, ON M5S 2Y1",
           "Canada"
          ],
          "state": "ON",
          "zip_code": "M5S 2Y1"
         },
         "name": "Aroma Espresso Bar",
         "phone": "+14167927662",
         "price": "$",
         "rating": 2.5,
         "review_count": 31,
         "transactions": [],
         "url": "https://www.yelp.com/biz/aroma-espresso-bar-toronto-19?adjust_creative=QPx7thjBLIRNuHC-XQWErw&utm_campaign=yelp_api_v3&utm_medium=api_v3_business_search&utm_source=QPx7thjBLIRNuHC-XQWErw"
        },
        {
         "alias": "starbucks-toronto-109",
         "categories": [
          {
           "alias": "coffee",
           "title": "Coffee & Tea"
          }
         ],
         "coordinates": {
          "latitude": 43.670596,
          "longitude": -79.390085
         },
         "display_phone": "+1 416-934-0881",
         "distance": 234.73712080299546,
         "id": "pMMxRepey5UZL2zfIECEsQ",
         "image_url": "https://s3-media2.fl.yelpcdn.com/bphoto/VrjSTPBtis62lt5kkdzJfA/o.jpg",
         "is_closed": false,
         "location": {
          "address1": "1250 Bay Street",
          "address2": "",
          "address3": "",
          "city": "Toronto",
          "country": "CA",
          "display_address": [
           "1250 Bay Street",
           "Toronto, ON M5R 2B1",
           "Canada"
          ],
          "state": "ON",
          "zip_code": "M5R 2B1"
         },
         "name": "Starbucks",
         "phone": "+14169340881",
         "price": "$$",
         "rating": 3.5,
         "review_count": 17,
         "transactions": [],
         "url": "https://www.yelp.com/biz/starbucks-toronto-109?adjust_creative=QPx7thjBLIRNuHC-XQWErw&utm_campaign=yelp_api_v3&utm_medium=api_v3_business_search&utm_source=QPx7thjBLIRNuHC-XQWErw"
        },
        {
         "alias": "urbana-coffee-toronto-2",
         "categories": [
          {
           "alias": "coffee",
           "title": "Coffee & Tea"
          }
         ],
         "coordinates": {
          "latitude": 43.67256,
          "longitude": -79.3879
         },
         "display_phone": "+1 416-960-0878",
         "distance": 462.30771764795793,
         "id": "g71DJrR0nX3tL2WBoeSYSA",
         "image_url": "https://s3-media2.fl.yelpcdn.com/bphoto/_UyvLdmTB7qOCH7SzZzBcA/o.jpg",
         "is_closed": false,
         "location": {
          "address1": "878 Yonge Street",
          "address2": "",
          "address3": "",
          "city": "Toronto",
          "country": "CA",
          "display_address": [
           "878 Yonge Street",
           "Toronto, ON M4W",
           "Canada"
          ],
          "state": "ON",
          "zip_code": "M4W"
         },
         "name": "Urbana Coffee",
         "phone": "+14169600878",
         "price": "$$",
         "rating": 1.5,
         "review_count": 15,
         "transactions": [],
         "url": "https://www.yelp.com/biz/urbana-coffee-toronto-2?adjust_creative=QPx7thjBLIRNuHC-XQWErw&utm_campaign=yelp_api_v3&utm_medium=api_v3_business_search&utm_source=QPx7thjBLIRNuHC-XQWErw"
        },
        {
         "alias": "planta-toronto-13",
         "categories": [
          {
           "alias": "tapasmallplates",
           "title": "Tapas/Small Plates"
          },
          {
           "alias": "pizza",
           "title": "Pizza"
          },
          {
           "alias": "desserts",
           "title": "Desserts"
          }
         ],
         "coordinates": {
          "latitude": 43.6702150961667,
          "longitude": -79.3894335574237
         },
         "display_phone": "+1 647-812-1221",
         "distance": 291.87178744352883,
         "id": "JG9UpsFR6hrqQqsKh_RyaQ",
         "image_url": "https://s3-media3.fl.yelpcdn.com/bphoto/QvFIGAp-Jm9aaFoWRqbnxg/o.jpg",
         "is_closed": false,
         "location": {
          "address1": "1221 Bay Street",
          "address2": "",
          "address3": null,
          "city": "Toronto",
          "country": "CA",
          "display_address": [
           "1221 Bay Street",
           "Toronto, ON M5R 3P5",
           "Canada"
          ],
          "state": "ON",
          "zip_code": "M5R 3P5"
         },
         "name": "PLANTA",
         "phone": "+16478121221",
         "price": "$$",
         "rating": 4,
         "review_count": 477,
         "transactions": [],
         "url": "https://www.yelp.com/biz/planta-toronto-13?adjust_creative=QPx7thjBLIRNuHC-XQWErw&utm_campaign=yelp_api_v3&utm_medium=api_v3_business_search&utm_source=QPx7thjBLIRNuHC-XQWErw"
        },
        {
         "alias": "kandl-artistique-toronto-2",
         "categories": [
          {
           "alias": "candlestores",
           "title": "Candle Stores"
          },
          {
           "alias": "themedcafes",
           "title": "Themed Cafes"
          }
         ],
         "coordinates": {
          "latitude": 43.67224,
          "longitude": -79.39586
         },
         "display_phone": "+1 416-215-2150",
         "distance": 292.7903048458403,
         "id": "ccC6UqoYFIoVfbwpSeNYbA",
         "image_url": "https://s3-media1.fl.yelpcdn.com/bphoto/K2igEO3w6SFbte6Yq0PYtg/o.jpg",
         "is_closed": false,
         "location": {
          "address1": "88 Avenue Rd",
          "address2": null,
          "address3": "",
          "city": "Toronto",
          "country": "CA",
          "display_address": [
           "88 Avenue Rd",
           "Toronto, ON M5R 2H2",
           "Canada"
          ],
          "state": "ON",
          "zip_code": "M5R 2H2"
         },
         "name": "KANDL Artistique",
         "phone": "+14162152150",
         "rating": 4.5,
         "review_count": 5,
         "transactions": [],
         "url": "https://www.yelp.com/biz/kandl-artistique-toronto-2?adjust_creative=QPx7thjBLIRNuHC-XQWErw&utm_campaign=yelp_api_v3&utm_medium=api_v3_business_search&utm_source=QPx7thjBLIRNuHC-XQWErw"
        },
        {
         "alias": "scream-toronto",
         "categories": [
          {
           "alias": "icecream",
           "title": "Ice Cream & Frozen Yogurt"
          },
          {
           "alias": "coffee",
           "title": "Coffee & Tea"
          },
          {
           "alias": "waffles",
           "title": "Waffles"
          }
         ],
         "coordinates": {
          "latitude": 43.6702793,
          "longitude": -79.392071
         },
         "display_phone": "+1 416-964-7777",
         "distance": 85.78265745917676,
         "id": "xeT4A37G7DoJp2pwLcO2ag",
         "image_url": "https://s3-media1.fl.yelpcdn.com/bphoto/0PIPvdxQZoqwbjlkh4Ekzg/o.jpg",
         "is_closed": false,
         "location": {
          "address1": "126 Cumberland Street",
          "address2": "",
          "address3": null,
          "city": "Toronto",
          "country": "CA",
          "display_address": [
           "126 Cumberland Street",
           "Toronto, ON M5R 1A6",
           "Canada"
          ],
          "state": "ON",
          "zip_code": "M5R 1A6"
         },
         "name": "S'cream",
         "phone": "+14169647777",
         "rating": 3.5,
         "review_count": 11,
         "transactions": [],
         "url": "https://www.yelp.com/biz/scream-toronto?adjust_creative=QPx7thjBLIRNuHC-XQWErw&utm_campaign=yelp_api_v3&utm_medium=api_v3_business_search&utm_source=QPx7thjBLIRNuHC-XQWErw"
        },
        {
         "alias": "summers-ice-cream-toronto-2",
         "categories": [
          {
           "alias": "icecream",
           "title": "Ice Cream & Frozen Yogurt"
          },
          {
           "alias": "desserts",
           "title": "Desserts"
          }
         ],
         "coordinates": {
          "latitude": 43.6707617,
          "longitude": -79.3924323
         },
         "display_phone": "+1 416-944-2637",
         "distance": 46.17234359001004,
         "id": "fPISsMIXOYZP1uins2Bwyw",
         "image_url": "https://s3-media2.fl.yelpcdn.com/bphoto/N5rgTdw8Ar7DpNVn1JMqog/o.jpg",
         "is_closed": false,
         "location": {
          "address1": "101 Yorkville Avenue",
          "address2": null,
          "address3": "",
          "city": "Toronto",
          "country": "CA",
          "display_address": [
           "101 Yorkville Avenue",
           "Toronto, ON M5R 1C1",
           "Canada"
          ],
          "state": "ON",
          "zip_code": "M5R 1C1"
         },
         "name": "Summer's Ice Cream",
         "phone": "+14169442637",
         "price": "$$",
         "rating": 4.5,
         "review_count": 161,
         "transactions": [],
         "url": "https://www.yelp.com/biz/summers-ice-cream-toronto-2?adjust_creative=QPx7thjBLIRNuHC-XQWErw&utm_campaign=yelp_api_v3&utm_medium=api_v3_business_search&utm_source=QPx7thjBLIRNuHC-XQWErw"
        },
        {
         "alias": "starbucks-toronto-158",
         "categories": [
          {
           "alias": "coffee",
           "title": "Coffee & Tea"
          }
         ],
         "coordinates": {
          "latitude": 43.6693596184219,
          "longitude": -79.3937527326044
         },
         "display_phone": "+1 416-925-4626",
         "distance": 160.8706184633041,
         "id": "N6t4pCiqKCHaoaP7qTKEbQ",
         "image_url": "https://s3-media3.fl.yelpcdn.com/bphoto/FGK24G8ymjexXb6qaabI1g/o.jpg",
         "is_closed": false,
         "location": {
          "address1": "150 Bloor Street W",
          "address2": "Unit 3",
          "address3": "",
          "city": "Toronto",
          "country": "CA",
          "display_address": [
           "150 Bloor Street W",
           "Unit 3",
           "Toronto, ON M5S 2X9",
           "Canada"
          ],
          "state": "ON",
          "zip_code": "M5S 2X9"
         },
         "name": "Starbucks",
         "phone": "+14169254626",
         "price": "$",
         "rating": 2.5,
         "review_count": 9,
         "transactions": [],
         "url": "https://www.yelp.com/biz/starbucks-toronto-158?adjust_creative=QPx7thjBLIRNuHC-XQWErw&utm_campaign=yelp_api_v3&utm_medium=api_v3_business_search&utm_source=QPx7thjBLIRNuHC-XQWErw"
        },
        {
         "alias": "calii-love-toronto-9",
         "categories": [
          {
           "alias": "juicebars",
           "title": "Juice Bars & Smoothies"
          },
          {
           "alias": "acaibowls",
           "title": "Acai Bowls"
          }
         ],
         "coordinates": {
          "latitude": 43.67088,
          "longitude": -79.3896
         },
         "display_phone": "+1 647-343-5683",
         "distance": 268.08559021757833,
         "id": "DwzzHxCGWvtTinlZ6QJ7EA",
         "image_url": "https://s3-media3.fl.yelpcdn.com/bphoto/-KKbQ--dzknfC-WKGfqjgQ/o.jpg",
         "is_closed": false,
         "location": {
          "address1": "1235 Bay Street",
          "address2": "",
          "address3": null,
          "city": "Toronto",
          "country": "CA",
          "display_address": [
           "1235 Bay Street",
           "Toronto, ON M5R 3K4",
           "Canada"
          ],
          "state": "ON",
          "zip_code": "M5R 3K4"
         },
         "name": "Calii Love",
         "phone": "+16473435683",
         "rating": 3.5,
         "review_count": 4,
         "transactions": [],
         "url": "https://www.yelp.com/biz/calii-love-toronto-9?adjust_creative=QPx7thjBLIRNuHC-XQWErw&utm_campaign=yelp_api_v3&utm_medium=api_v3_business_search&utm_source=QPx7thjBLIRNuHC-XQWErw"
        },
        {
         "alias": "whole-foods-market-toronto",
         "categories": [
          {
           "alias": "grocery",
           "title": "Grocery"
          },
          {
           "alias": "healthmarkets",
           "title": "Health Markets"
          },
          {
           "alias": "organic_stores",
           "title": "Organic Stores"
          }
         ],
         "coordinates": {
          "latitude": 43.6719522561695,
          "longitude": -79.39436361593116
         },
         "display_phone": "+1 416-944-0500",
         "distance": 177.2493427908087,
         "id": "NVwIn5UQokETKIh9fECYMQ",
         "image_url": "https://s3-media2.fl.yelpcdn.com/bphoto/pJzMmKbSC5a9L-d94rTLAQ/o.jpg",
         "is_closed": false,
         "location": {
          "address1": "87 Avenue Rd",
          "address2": "",
          "address3": "",
          "city": "Toronto",
          "country": "CA",
          "display_address": [
           "87 Avenue Rd",
           "Toronto, ON M5R 3R9",
           "Canada"
          ],
          "state": "ON",
          "zip_code": "M5R 3R9"
         },
         "name": "Whole Foods Market",
         "phone": "+14169440500",
         "price": "$$$",
         "rating": 3.5,
         "review_count": 165,
         "transactions": [],
         "url": "https://www.yelp.com/biz/whole-foods-market-toronto?adjust_creative=QPx7thjBLIRNuHC-XQWErw&utm_campaign=yelp_api_v3&utm_medium=api_v3_business_search&utm_source=QPx7thjBLIRNuHC-XQWErw"
        },
        {
         "alias": "kasa-moto-toronto",
         "categories": [
          {
           "alias": "japanese",
           "title": "Japanese"
          },
          {
           "alias": "sushi",
           "title": "Sushi Bars"
          },
          {
           "alias": "desserts",
           "title": "Desserts"
          }
         ],
         "coordinates": {
          "latitude": 43.670608,
          "longitude": -79.3927837
         },
         "display_phone": "+1 647-348-7000",
         "distance": 20.181765525657333,
         "id": "FyAioPDhzS5IP4a4SXeG-Q",
         "image_url": "https://s3-media4.fl.yelpcdn.com/bphoto/gLlmhpTb7IjOWB17a9uPYQ/o.jpg",
         "is_closed": false,
         "location": {
          "address1": "115 Yorkville Avenue",
          "address2": "",
          "address3": "",
          "city": "Toronto",
          "country": "CA",
          "display_address": [
           "115 Yorkville Avenue",
           "Toronto, ON M5R 1C1",
           "Canada"
          ],
          "state": "ON",
          "zip_code": "M5R 1C1"
         },
         "name": "Kasa Moto",
         "phone": "+16473487000",
         "price": "$$$",
         "rating": 3.5,
         "review_count": 249,
         "transactions": [],
         "url": "https://www.yelp.com/biz/kasa-moto-toronto?adjust_creative=QPx7thjBLIRNuHC-XQWErw&utm_campaign=yelp_api_v3&utm_medium=api_v3_business_search&utm_source=QPx7thjBLIRNuHC-XQWErw"
        },
        {
         "alias": "tim-hortons-toronto-48",
         "categories": [
          {
           "alias": "sandwiches",
           "title": "Sandwiches"
          },
          {
           "alias": "coffee",
           "title": "Coffee & Tea"
          },
          {
           "alias": "breakfast_brunch",
           "title": "Breakfast & Brunch"
          }
         ],
         "coordinates": {
          "latitude": 43.6683,
          "longitude": -79.39774
         },
         "display_phone": "+1 416-924-8188",
         "distance": 464.1477256748311,
         "id": "YPLJPAHy_byhlrwceIbN9Q",
         "image_url": "https://s3-media2.fl.yelpcdn.com/bphoto/bVe0NYddaDK5jeYR6NvxCw/o.jpg",
         "is_closed": false,
         "location": {
          "address1": "246 Bloor Street W",
          "address2": "",
          "address3": "",
          "city": "Toronto",
          "country": "CA",
          "display_address": [
           "246 Bloor Street W",
           "Toronto, ON M5S 1V4",
           "Canada"
          ],
          "state": "ON",
          "zip_code": "M5S 1V4"
         },
         "name": "Tim Hortons",
         "phone": "+14169248188",
         "price": "$",
         "rating": 2.5,
         "review_count": 32,
         "transactions": [],
         "url": "https://www.yelp.com/biz/tim-hortons-toronto-48?adjust_creative=QPx7thjBLIRNuHC-XQWErw&utm_campaign=yelp_api_v3&utm_medium=api_v3_business_search&utm_source=QPx7thjBLIRNuHC-XQWErw"
        },
        {
         "alias": "gemma-gelataria-toronto",
         "categories": [
          {
           "alias": "icecream",
           "title": "Ice Cream & Frozen Yogurt"
          }
         ],
         "coordinates": {
          "latitude": 43.67011,
          "longitude": -79.39288
         },
         "display_phone": "+1 416-792-6620",
         "distance": 77.90899985170847,
         "id": "tN8UltYOJDKGlYO-T6XY2g",
         "image_url": "https://s3-media3.fl.yelpcdn.com/bphoto/PHo2tU2-mH56Z64x1ttGyw/o.jpg",
         "is_closed": false,
         "location": {
          "address1": "146 Cumberland Street",
          "address2": "",
          "address3": "",
          "city": "Toronto",
          "country": "CA",
          "display_address": [
           "146 Cumberland Street",
           "Toronto, ON M5R",
           "Canada"
          ],
          "state": "ON",
          "zip_code": "M5R"
         },
         "name": "Gemma Gelataria",
         "phone": "+14167926620",
         "price": "$$",
         "rating": 3.5,
         "review_count": 70,
         "transactions": [],
         "url": "https://www.yelp.com/biz/gemma-gelataria-toronto?adjust_creative=QPx7thjBLIRNuHC-XQWErw&utm_campaign=yelp_api_v3&utm_medium=api_v3_business_search&utm_source=QPx7thjBLIRNuHC-XQWErw"
        },
        {
         "alias": "pusateris-fine-foods-toronto-2",
         "categories": [
          {
           "alias": "grocery",
           "title": "Grocery"
          },
          {
           "alias": "gourmet",
           "title": "Specialty Food"
          },
          {
           "alias": "catering",
           "title": "Caterers"
          }
         ],
         "coordinates": {
          "latitude": 43.67109,
          "longitude": -79.39046
         },
         "display_phone": "+1 416-925-0583",
         "distance": 221.19661952947925,
         "id": "I8UnsxFjZe_r9sU2jzO-vg",
         "image_url": "https://s3-media4.fl.yelpcdn.com/bphoto/9ZMD1bjVJzDPLf_RFl719Q/o.jpg",
         "is_closed": false,
         "location": {
          "address1": "57 Yorkville Avenue",
          "address2": "",
          "address3": "",
          "city": "Toronto",
          "country": "CA",
          "display_address": [
           "57 Yorkville Avenue",
           "Toronto, ON M5R 3V6",
           "Canada"
          ],
          "state": "ON",
          "zip_code": "M5R 3V6"
         },
         "name": "Pusateri's Fine Foods",
         "phone": "+14169250583",
         "price": "$$$",
         "rating": 3,
         "review_count": 127,
         "transactions": [],
         "url": "https://www.yelp.com/biz/pusateris-fine-foods-toronto-2?adjust_creative=QPx7thjBLIRNuHC-XQWErw&utm_campaign=yelp_api_v3&utm_medium=api_v3_business_search&utm_source=QPx7thjBLIRNuHC-XQWErw"
        },
        {
         "alias": "hattendo-toronto-3",
         "categories": [
          {
           "alias": "bakeries",
           "title": "Bakeries"
          },
          {
           "alias": "desserts",
           "title": "Desserts"
          },
          {
           "alias": "coffee",
           "title": "Coffee & Tea"
          }
         ],
         "coordinates": {
          "latitude": 43.670498,
          "longitude": -79.387603
         },
         "display_phone": "+1 416-925-9991",
         "distance": 434.65929305762495,
         "id": "vzU8ULtf2yqlide85Pa6xA",
         "image_url": "https://s3-media3.fl.yelpcdn.com/bphoto/B9E0GW0mF8h2iwupH0tLYQ/o.jpg",
         "is_closed": false,
         "location": {
          "address1": "50 Bloor Street W",
          "address2": "Unit 9",
          "address3": "",
          "city": "Toronto",
          "country": "CA",
          "display_address": [
           "50 Bloor Street W",
           "Unit 9",
           "Toronto, ON M4W 3L8",
           "Canada"
          ],
          "state": "ON",
          "zip_code": "M4W 3L8"
         },
         "name": "Hattendo",
         "phone": "+14169259991",
         "rating": 3.5,
         "review_count": 14,
         "transactions": [],
         "url": "https://www.yelp.com/biz/hattendo-toronto-3?adjust_creative=QPx7thjBLIRNuHC-XQWErw&utm_campaign=yelp_api_v3&utm_medium=api_v3_business_search&utm_source=QPx7thjBLIRNuHC-XQWErw"
        },
        {
         "alias": "bellair-coffee-plus-toronto-2",
         "categories": [
          {
           "alias": "coffee",
           "title": "Coffee & Tea"
          },
          {
           "alias": "convenience",
           "title": "Convenience Stores"
          }
         ],
         "coordinates": {
          "latitude": 43.67034,
          "longitude": -79.39009
         },
         "display_phone": "+1 416-928-1733",
         "distance": 231.82095620084152,
         "id": "oxqql0Iipj_59yFFvP3GFg",
         "image_url": "https://s3-media1.fl.yelpcdn.com/bphoto/HQyt-n0Yhf4RrZM6s1qfnw/o.jpg",
         "is_closed": false,
         "location": {
          "address1": "1240 Bay St",
          "address2": "",
          "address3": "",
          "city": "Toronto",
          "country": "CA",
          "display_address": [
           "1240 Bay St",
           "Toronto, ON M5R 2A7",
           "Canada"
          ],
          "state": "ON",
          "zip_code": "M5R 2A7"
         },
         "name": "Bellair Coffee Plus",
         "phone": "+14169281733",
         "rating": 1,
         "review_count": 3,
         "transactions": [],
         "url": "https://www.yelp.com/biz/bellair-coffee-plus-toronto-2?adjust_creative=QPx7thjBLIRNuHC-XQWErw&utm_campaign=yelp_api_v3&utm_medium=api_v3_business_search&utm_source=QPx7thjBLIRNuHC-XQWErw"
        },
        {
         "alias": "starbucks-toronto-174",
         "categories": [
          {
           "alias": "coffee",
           "title": "Coffee & Tea"
          }
         ],
         "coordinates": {
          "latitude": 43.670098411044,
          "longitude": -79.388198422879
         },
         "display_phone": "+1 416-922-0770",
         "distance": 391.9408497767913,
         "id": "o2811xZ0ufRi7WcsqWiGzw",
         "image_url": "https://s3-media1.fl.yelpcdn.com/bphoto/0a8Qgii7WjnV_gHY8H7hIw/o.jpg",
         "is_closed": false,
         "location": {
          "address1": "50 Bloor Street W",
          "address2": "",
          "address3": "",
          "city": "Toronto",
          "country": "CA",
          "display_address": [
           "50 Bloor Street W",
           "Toronto, ON M4W 3L8",
           "Canada"
          ],
          "state": "ON",
          "zip_code": "M4W 3L8"
         },
         "name": "Starbucks",
         "phone": "+14169220770",
         "price": "$$",
         "rating": 4,
         "review_count": 5,
         "transactions": [],
         "url": "https://www.yelp.com/biz/starbucks-toronto-174?adjust_creative=QPx7thjBLIRNuHC-XQWErw&utm_campaign=yelp_api_v3&utm_medium=api_v3_business_search&utm_source=QPx7thjBLIRNuHC-XQWErw"
        }
       ],
       "region": {
        "center": {
         "latitude": 43.6707,
         "longitude": -79.393
        }
       },
       "total": 64
      },
      "text/plain": [
       "<IPython.core.display.JSON object>"
      ]
     },
     "metadata": {
      "application/json": {
       "expanded": false,
       "root": "root"
      }
     },
     "output_type": "display_data"
    },
    {
     "name": "stdout",
     "output_type": "stream",
     "text": [
      "50\n",
      "Coffee Lunar 5.0\n",
      "Nespresso Boutique Bar 4.0\n",
      "Goldstruck Coffee 3.5\n",
      "Dice Fruit Bar & Cafe 4.5\n",
      "Coco Espresso Bar 3.5\n",
      "Zaza Espresso Bar 4.0\n",
      "A-OK CAFE 4.0\n",
      "Zaza Espresso Bar 3.5\n",
      "Jacked Up Coffee 4.0\n",
      "Havana Coffee Bar 4.0\n",
      "Ned's Cafe 4.0\n",
      "Dessert Lady Café 4.0\n",
      "B Espresso Bar 3.0\n",
      "5 Elements Espresso Bar 3.0\n",
      "Balzac’s Coffee Roasters 3.5\n",
      "Pilot Coffee Roasters 3.0\n",
      "Scollard Variety & Deli 4.5\n",
      "Café Boulud 3.5\n",
      "Caffiends 5.0\n",
      "Dessert Lady Café 4.0\n",
      "Venchi at Eataly Toronto 4.0\n",
      "Portici 4.0\n",
      "Carole's Cheesecake Cafe 3.5\n",
      "Chi Patisserie 3.5\n",
      "Starbucks 3.5\n",
      "Little Hut Cafe 4.0\n",
      "Eataly 3.5\n",
      "Starbucks 4.5\n",
      "holts café 3.5\n",
      "Joni Restaurant 4.0\n",
      "Yorkville Crepes 3.5\n",
      "Utsav 4.0\n",
      "Windsor Arms Hotel Tea Room 2.5\n",
      "Aroma Espresso Bar 2.5\n",
      "Starbucks 3.5\n",
      "Urbana Coffee 1.5\n",
      "PLANTA 4.0\n",
      "KANDL Artistique 4.5\n",
      "S'cream 3.5\n",
      "Summer's Ice Cream 4.5\n",
      "Starbucks 2.5\n",
      "Calii Love 3.5\n",
      "Whole Foods Market 3.5\n",
      "Kasa Moto 3.5\n",
      "Tim Hortons 2.5\n",
      "Gemma Gelataria 3.5\n",
      "Pusateri's Fine Foods 3.0\n",
      "Hattendo 3.5\n",
      "Bellair Coffee Plus 1.0\n",
      "Starbucks 4.0\n"
     ]
    }
   ],
   "source": [
    "display(JSON(response2.json()))\n",
    "amount_of_results = len(response2.json()['businesses'])\n",
    "print(amount_of_results)\n",
    "for i in range(amount_of_results):\n",
    "    coffee = (response2.json()['businesses'][i]['name'])\n",
    "    rating = (response2.json()['businesses'][i]['rating'])\n",
    "    print(coffee, rating)"
   ]
  }
 ],
 "metadata": {
  "kernelspec": {
   "display_name": "Python 3 (ipykernel)",
   "language": "python",
   "name": "python3"
  },
  "language_info": {
   "codemirror_mode": {
    "name": "ipython",
    "version": 3
   },
   "file_extension": ".py",
   "mimetype": "text/x-python",
   "name": "python",
   "nbconvert_exporter": "python",
   "pygments_lexer": "ipython3",
   "version": "3.8.13"
  }
 },
 "nbformat": 4,
 "nbformat_minor": 5
}
